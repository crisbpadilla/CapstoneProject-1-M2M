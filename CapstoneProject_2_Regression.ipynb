{
  "nbformat": 4,
  "nbformat_minor": 0,
  "metadata": {
    "colab": {
      "provenance": [],
      "authorship_tag": "ABX9TyMLVGruITom9LK2Z1tUZpiU",
      "include_colab_link": true
    },
    "kernelspec": {
      "name": "python3",
      "display_name": "Python 3"
    },
    "language_info": {
      "name": "python"
    }
  },
  "cells": [
    {
      "cell_type": "markdown",
      "metadata": {
        "id": "view-in-github",
        "colab_type": "text"
      },
      "source": [
        "<a href=\"https://colab.research.google.com/github/crisbpadilla/CapstoneProject-1-M2M/blob/main/CapstoneProject_2_Regression.ipynb\" target=\"_parent\"><img src=\"https://colab.research.google.com/assets/colab-badge.svg\" alt=\"Open In Colab\"/></a>"
      ]
    },
    {
      "cell_type": "markdown",
      "source": [
        "# Machine learning- compressive strenght prediction modeling\n",
        "  In the present capston project, the same data used in the first project will be scaled and transform to preprocess the data, prepared the training and testing data and evaluate the different regression models that could be used to predict the compressive strength of the concrete mix.\n",
        "\n",
        "  So, the dataset was obtain from kaggle:"
      ],
      "metadata": {
        "id": "T3kTqTGwp9O9"
      }
    },
    {
      "cell_type": "code",
      "execution_count": 201,
      "metadata": {
        "id": "lcN03oEREtln"
      },
      "outputs": [],
      "source": [
        "import pandas as pd\n",
        "import numpy as np\n",
        "\n",
        "concrete=pd.read_csv('concrete.csv')"
      ]
    },
    {
      "cell_type": "markdown",
      "source": [
        "In the first capston project it was possible to identify that the main components that helps to improve the development and higher values of compressive strength were the SCM and the superplastice.\n",
        "So due this, we will firstly checked the correlation matrix between the variables to have  a better idea of it and see if this could help to take desicions in the future models."
      ],
      "metadata": {
        "id": "GpAlqmUSrOXj"
      }
    },
    {
      "cell_type": "code",
      "source": [
        "from bokeh.plotting import figure, output_notebook, show, output_notebook\n",
        "from bokeh.models import ColumnDataSource, LinearColorMapper,ColorBar\n",
        "\n",
        "output_notebook()\n",
        "material_corr=concrete.corr()\n",
        "\n",
        "material_corr = material_corr.stack().reset_index()\n",
        "material_corr.columns = ['x', 'y', 'value']\n",
        "\n",
        "material_corr['value'] = material_corr['value'].round(2)\n",
        "\n",
        "source = ColumnDataSource(material_corr)\n",
        "\n",
        "# Define color mapper\n",
        "color_mapper = LinearColorMapper(palette=\"Inferno256\", low=-1, high=1)\n",
        "\n",
        "# Create figure\n",
        "p = figure(title=\"Correlation Heatmap\", x_range=list(concrete.columns), y_range=list(concrete.columns),\n",
        "           x_axis_location=\"above\", width=600, height=600,\n",
        "           tools=\"hover\", tooltips=\"@x, @y: @value{0.2f}\")\n",
        "\n",
        "p.rect(x=\"x\", y=\"y\", width=1, height=1, source=source,\n",
        "       fill_color={'field': 'value', 'transform': color_mapper}, line_color=None)\n",
        "\n",
        "# Add text annotations\n",
        "from bokeh.models import LabelSet\n",
        "labels = LabelSet(x='x', y='y', text='value', source=source,text_align='center',\n",
        "                  text_baseline='middle',text_font_size='8pt',text_color='white')\n",
        "p.add_layout(labels)\n",
        "\n",
        "# Add color bar\n",
        "color_bar = ColorBar(color_mapper=color_mapper, label_standoff=12, border_line_color=None, location=(0, 0))\n",
        "p.add_layout(color_bar, 'right')\n",
        "\n",
        "p.xaxis.major_label_orientation = 0.75\n",
        "\n",
        "# Show plot\n",
        "show(p)\n"
      ],
      "metadata": {
        "colab": {
          "base_uri": "https://localhost:8080/",
          "height": 617
        },
        "id": "-d4ASDr4AzZ2",
        "outputId": "182d4b72-6f29-4cfb-f526-bf30f9797d49"
      },
      "execution_count": 202,
      "outputs": [
        {
          "output_type": "display_data",
          "data": {
            "application/javascript": [
              "'use strict';\n",
              "(function(root) {\n",
              "  function now() {\n",
              "    return new Date();\n",
              "  }\n",
              "\n",
              "  const force = true;\n",
              "\n",
              "  if (typeof root._bokeh_onload_callbacks === \"undefined\" || force === true) {\n",
              "    root._bokeh_onload_callbacks = [];\n",
              "    root._bokeh_is_loading = undefined;\n",
              "  }\n",
              "\n",
              "const JS_MIME_TYPE = 'application/javascript';\n",
              "  const HTML_MIME_TYPE = 'text/html';\n",
              "  const EXEC_MIME_TYPE = 'application/vnd.bokehjs_exec.v0+json';\n",
              "  const CLASS_NAME = 'output_bokeh rendered_html';\n",
              "\n",
              "  /**\n",
              "   * Render data to the DOM node\n",
              "   */\n",
              "  function render(props, node) {\n",
              "    const script = document.createElement(\"script\");\n",
              "    node.appendChild(script);\n",
              "  }\n",
              "\n",
              "  /**\n",
              "   * Handle when an output is cleared or removed\n",
              "   */\n",
              "  function handleClearOutput(event, handle) {\n",
              "    function drop(id) {\n",
              "      const view = Bokeh.index.get_by_id(id)\n",
              "      if (view != null) {\n",
              "        view.model.document.clear()\n",
              "        Bokeh.index.delete(view)\n",
              "      }\n",
              "    }\n",
              "\n",
              "    const cell = handle.cell;\n",
              "\n",
              "    const id = cell.output_area._bokeh_element_id;\n",
              "    const server_id = cell.output_area._bokeh_server_id;\n",
              "\n",
              "    // Clean up Bokeh references\n",
              "    if (id != null) {\n",
              "      drop(id)\n",
              "    }\n",
              "\n",
              "    if (server_id !== undefined) {\n",
              "      // Clean up Bokeh references\n",
              "      const cmd_clean = \"from bokeh.io.state import curstate; print(curstate().uuid_to_server['\" + server_id + \"'].get_sessions()[0].document.roots[0]._id)\";\n",
              "      cell.notebook.kernel.execute(cmd_clean, {\n",
              "        iopub: {\n",
              "          output: function(msg) {\n",
              "            const id = msg.content.text.trim()\n",
              "            drop(id)\n",
              "          }\n",
              "        }\n",
              "      });\n",
              "      // Destroy server and session\n",
              "      const cmd_destroy = \"import bokeh.io.notebook as ion; ion.destroy_server('\" + server_id + \"')\";\n",
              "      cell.notebook.kernel.execute(cmd_destroy);\n",
              "    }\n",
              "  }\n",
              "\n",
              "  /**\n",
              "   * Handle when a new output is added\n",
              "   */\n",
              "  function handleAddOutput(event, handle) {\n",
              "    const output_area = handle.output_area;\n",
              "    const output = handle.output;\n",
              "\n",
              "    // limit handleAddOutput to display_data with EXEC_MIME_TYPE content only\n",
              "    if ((output.output_type != \"display_data\") || (!Object.prototype.hasOwnProperty.call(output.data, EXEC_MIME_TYPE))) {\n",
              "      return\n",
              "    }\n",
              "\n",
              "    const toinsert = output_area.element.find(\".\" + CLASS_NAME.split(' ')[0]);\n",
              "\n",
              "    if (output.metadata[EXEC_MIME_TYPE][\"id\"] !== undefined) {\n",
              "      toinsert[toinsert.length - 1].firstChild.textContent = output.data[JS_MIME_TYPE];\n",
              "      // store reference to embed id on output_area\n",
              "      output_area._bokeh_element_id = output.metadata[EXEC_MIME_TYPE][\"id\"];\n",
              "    }\n",
              "    if (output.metadata[EXEC_MIME_TYPE][\"server_id\"] !== undefined) {\n",
              "      const bk_div = document.createElement(\"div\");\n",
              "      bk_div.innerHTML = output.data[HTML_MIME_TYPE];\n",
              "      const script_attrs = bk_div.children[0].attributes;\n",
              "      for (let i = 0; i < script_attrs.length; i++) {\n",
              "        toinsert[toinsert.length - 1].firstChild.setAttribute(script_attrs[i].name, script_attrs[i].value);\n",
              "        toinsert[toinsert.length - 1].firstChild.textContent = bk_div.children[0].textContent\n",
              "      }\n",
              "      // store reference to server id on output_area\n",
              "      output_area._bokeh_server_id = output.metadata[EXEC_MIME_TYPE][\"server_id\"];\n",
              "    }\n",
              "  }\n",
              "\n",
              "  function register_renderer(events, OutputArea) {\n",
              "\n",
              "    function append_mime(data, metadata, element) {\n",
              "      // create a DOM node to render to\n",
              "      const toinsert = this.create_output_subarea(\n",
              "        metadata,\n",
              "        CLASS_NAME,\n",
              "        EXEC_MIME_TYPE\n",
              "      );\n",
              "      this.keyboard_manager.register_events(toinsert);\n",
              "      // Render to node\n",
              "      const props = {data: data, metadata: metadata[EXEC_MIME_TYPE]};\n",
              "      render(props, toinsert[toinsert.length - 1]);\n",
              "      element.append(toinsert);\n",
              "      return toinsert\n",
              "    }\n",
              "\n",
              "    /* Handle when an output is cleared or removed */\n",
              "    events.on('clear_output.CodeCell', handleClearOutput);\n",
              "    events.on('delete.Cell', handleClearOutput);\n",
              "\n",
              "    /* Handle when a new output is added */\n",
              "    events.on('output_added.OutputArea', handleAddOutput);\n",
              "\n",
              "    /**\n",
              "     * Register the mime type and append_mime function with output_area\n",
              "     */\n",
              "    OutputArea.prototype.register_mime_type(EXEC_MIME_TYPE, append_mime, {\n",
              "      /* Is output safe? */\n",
              "      safe: true,\n",
              "      /* Index of renderer in `output_area.display_order` */\n",
              "      index: 0\n",
              "    });\n",
              "  }\n",
              "\n",
              "  // register the mime type if in Jupyter Notebook environment and previously unregistered\n",
              "  if (root.Jupyter !== undefined) {\n",
              "    const events = require('base/js/events');\n",
              "    const OutputArea = require('notebook/js/outputarea').OutputArea;\n",
              "\n",
              "    if (OutputArea.prototype.mime_types().indexOf(EXEC_MIME_TYPE) == -1) {\n",
              "      register_renderer(events, OutputArea);\n",
              "    }\n",
              "  }\n",
              "  if (typeof (root._bokeh_timeout) === \"undefined\" || force === true) {\n",
              "    root._bokeh_timeout = Date.now() + 5000;\n",
              "    root._bokeh_failed_load = false;\n",
              "  }\n",
              "\n",
              "  const NB_LOAD_WARNING = {'data': {'text/html':\n",
              "     \"<div style='background-color: #fdd'>\\n\"+\n",
              "     \"<p>\\n\"+\n",
              "     \"BokehJS does not appear to have successfully loaded. If loading BokehJS from CDN, this \\n\"+\n",
              "     \"may be due to a slow or bad network connection. Possible fixes:\\n\"+\n",
              "     \"</p>\\n\"+\n",
              "     \"<ul>\\n\"+\n",
              "     \"<li>re-rerun `output_notebook()` to attempt to load from CDN again, or</li>\\n\"+\n",
              "     \"<li>use INLINE resources instead, as so:</li>\\n\"+\n",
              "     \"</ul>\\n\"+\n",
              "     \"<code>\\n\"+\n",
              "     \"from bokeh.resources import INLINE\\n\"+\n",
              "     \"output_notebook(resources=INLINE)\\n\"+\n",
              "     \"</code>\\n\"+\n",
              "     \"</div>\"}};\n",
              "\n",
              "  function display_loaded(error = null) {\n",
              "    const el = document.getElementById(null);\n",
              "    if (el != null) {\n",
              "      const html = (() => {\n",
              "        if (typeof root.Bokeh === \"undefined\") {\n",
              "          if (error == null) {\n",
              "            return \"BokehJS is loading ...\";\n",
              "          } else {\n",
              "            return \"BokehJS failed to load.\";\n",
              "          }\n",
              "        } else {\n",
              "          const prefix = `BokehJS ${root.Bokeh.version}`;\n",
              "          if (error == null) {\n",
              "            return `${prefix} successfully loaded.`;\n",
              "          } else {\n",
              "            return `${prefix} <b>encountered errors</b> while loading and may not function as expected.`;\n",
              "          }\n",
              "        }\n",
              "      })();\n",
              "      el.innerHTML = html;\n",
              "\n",
              "      if (error != null) {\n",
              "        const wrapper = document.createElement(\"div\");\n",
              "        wrapper.style.overflow = \"auto\";\n",
              "        wrapper.style.height = \"5em\";\n",
              "        wrapper.style.resize = \"vertical\";\n",
              "        const content = document.createElement(\"div\");\n",
              "        content.style.fontFamily = \"monospace\";\n",
              "        content.style.whiteSpace = \"pre-wrap\";\n",
              "        content.style.backgroundColor = \"rgb(255, 221, 221)\";\n",
              "        content.textContent = error.stack ?? error.toString();\n",
              "        wrapper.append(content);\n",
              "        el.append(wrapper);\n",
              "      }\n",
              "    } else if (Date.now() < root._bokeh_timeout) {\n",
              "      setTimeout(() => display_loaded(error), 100);\n",
              "    }\n",
              "  }\n",
              "\n",
              "  function run_callbacks() {\n",
              "    try {\n",
              "      root._bokeh_onload_callbacks.forEach(function(callback) {\n",
              "        if (callback != null)\n",
              "          callback();\n",
              "      });\n",
              "    } finally {\n",
              "      delete root._bokeh_onload_callbacks\n",
              "    }\n",
              "    console.debug(\"Bokeh: all callbacks have finished\");\n",
              "  }\n",
              "\n",
              "  function load_libs(css_urls, js_urls, callback) {\n",
              "    if (css_urls == null) css_urls = [];\n",
              "    if (js_urls == null) js_urls = [];\n",
              "\n",
              "    root._bokeh_onload_callbacks.push(callback);\n",
              "    if (root._bokeh_is_loading > 0) {\n",
              "      console.debug(\"Bokeh: BokehJS is being loaded, scheduling callback at\", now());\n",
              "      return null;\n",
              "    }\n",
              "    if (js_urls == null || js_urls.length === 0) {\n",
              "      run_callbacks();\n",
              "      return null;\n",
              "    }\n",
              "    console.debug(\"Bokeh: BokehJS not loaded, scheduling load and callback at\", now());\n",
              "    root._bokeh_is_loading = css_urls.length + js_urls.length;\n",
              "\n",
              "    function on_load() {\n",
              "      root._bokeh_is_loading--;\n",
              "      if (root._bokeh_is_loading === 0) {\n",
              "        console.debug(\"Bokeh: all BokehJS libraries/stylesheets loaded\");\n",
              "        run_callbacks()\n",
              "      }\n",
              "    }\n",
              "\n",
              "    function on_error(url) {\n",
              "      console.error(\"failed to load \" + url);\n",
              "    }\n",
              "\n",
              "    for (let i = 0; i < css_urls.length; i++) {\n",
              "      const url = css_urls[i];\n",
              "      const element = document.createElement(\"link\");\n",
              "      element.onload = on_load;\n",
              "      element.onerror = on_error.bind(null, url);\n",
              "      element.rel = \"stylesheet\";\n",
              "      element.type = \"text/css\";\n",
              "      element.href = url;\n",
              "      console.debug(\"Bokeh: injecting link tag for BokehJS stylesheet: \", url);\n",
              "      document.body.appendChild(element);\n",
              "    }\n",
              "\n",
              "    for (let i = 0; i < js_urls.length; i++) {\n",
              "      const url = js_urls[i];\n",
              "      const element = document.createElement('script');\n",
              "      element.onload = on_load;\n",
              "      element.onerror = on_error.bind(null, url);\n",
              "      element.async = false;\n",
              "      element.src = url;\n",
              "      console.debug(\"Bokeh: injecting script tag for BokehJS library: \", url);\n",
              "      document.head.appendChild(element);\n",
              "    }\n",
              "  };\n",
              "\n",
              "  function inject_raw_css(css) {\n",
              "    const element = document.createElement(\"style\");\n",
              "    element.appendChild(document.createTextNode(css));\n",
              "    document.body.appendChild(element);\n",
              "  }\n",
              "\n",
              "  const js_urls = [\"https://cdn.bokeh.org/bokeh/release/bokeh-3.6.2.min.js\", \"https://cdn.bokeh.org/bokeh/release/bokeh-gl-3.6.2.min.js\", \"https://cdn.bokeh.org/bokeh/release/bokeh-widgets-3.6.2.min.js\", \"https://cdn.bokeh.org/bokeh/release/bokeh-tables-3.6.2.min.js\", \"https://cdn.bokeh.org/bokeh/release/bokeh-mathjax-3.6.2.min.js\"];\n",
              "  const css_urls = [];\n",
              "\n",
              "  const inline_js = [    function(Bokeh) {\n",
              "      Bokeh.set_log_level(\"info\");\n",
              "    },\n",
              "function(Bokeh) {\n",
              "    }\n",
              "  ];\n",
              "\n",
              "  function run_inline_js() {\n",
              "    if (root.Bokeh !== undefined || force === true) {\n",
              "      try {\n",
              "            for (let i = 0; i < inline_js.length; i++) {\n",
              "      inline_js[i].call(root, root.Bokeh);\n",
              "    }\n",
              "\n",
              "      } catch (error) {throw error;\n",
              "      }} else if (Date.now() < root._bokeh_timeout) {\n",
              "      setTimeout(run_inline_js, 100);\n",
              "    } else if (!root._bokeh_failed_load) {\n",
              "      console.log(\"Bokeh: BokehJS failed to load within specified timeout.\");\n",
              "      root._bokeh_failed_load = true;\n",
              "    } else if (force !== true) {\n",
              "      const cell = $(document.getElementById(null)).parents('.cell').data().cell;\n",
              "      cell.output_area.append_execute_result(NB_LOAD_WARNING)\n",
              "    }\n",
              "  }\n",
              "\n",
              "  if (root._bokeh_is_loading === 0) {\n",
              "    console.debug(\"Bokeh: BokehJS loaded, going straight to plotting\");\n",
              "    run_inline_js();\n",
              "  } else {\n",
              "    load_libs(css_urls, js_urls, function() {\n",
              "      console.debug(\"Bokeh: BokehJS plotting callback run at\", now());\n",
              "      run_inline_js();\n",
              "    });\n",
              "  }\n",
              "}(window));"
            ],
            "application/vnd.bokehjs_load.v0+json": "'use strict';\n(function(root) {\n  function now() {\n    return new Date();\n  }\n\n  const force = true;\n\n  if (typeof root._bokeh_onload_callbacks === \"undefined\" || force === true) {\n    root._bokeh_onload_callbacks = [];\n    root._bokeh_is_loading = undefined;\n  }\n\n\n  if (typeof (root._bokeh_timeout) === \"undefined\" || force === true) {\n    root._bokeh_timeout = Date.now() + 5000;\n    root._bokeh_failed_load = false;\n  }\n\n  const NB_LOAD_WARNING = {'data': {'text/html':\n     \"<div style='background-color: #fdd'>\\n\"+\n     \"<p>\\n\"+\n     \"BokehJS does not appear to have successfully loaded. If loading BokehJS from CDN, this \\n\"+\n     \"may be due to a slow or bad network connection. Possible fixes:\\n\"+\n     \"</p>\\n\"+\n     \"<ul>\\n\"+\n     \"<li>re-rerun `output_notebook()` to attempt to load from CDN again, or</li>\\n\"+\n     \"<li>use INLINE resources instead, as so:</li>\\n\"+\n     \"</ul>\\n\"+\n     \"<code>\\n\"+\n     \"from bokeh.resources import INLINE\\n\"+\n     \"output_notebook(resources=INLINE)\\n\"+\n     \"</code>\\n\"+\n     \"</div>\"}};\n\n  function display_loaded(error = null) {\n    const el = document.getElementById(null);\n    if (el != null) {\n      const html = (() => {\n        if (typeof root.Bokeh === \"undefined\") {\n          if (error == null) {\n            return \"BokehJS is loading ...\";\n          } else {\n            return \"BokehJS failed to load.\";\n          }\n        } else {\n          const prefix = `BokehJS ${root.Bokeh.version}`;\n          if (error == null) {\n            return `${prefix} successfully loaded.`;\n          } else {\n            return `${prefix} <b>encountered errors</b> while loading and may not function as expected.`;\n          }\n        }\n      })();\n      el.innerHTML = html;\n\n      if (error != null) {\n        const wrapper = document.createElement(\"div\");\n        wrapper.style.overflow = \"auto\";\n        wrapper.style.height = \"5em\";\n        wrapper.style.resize = \"vertical\";\n        const content = document.createElement(\"div\");\n        content.style.fontFamily = \"monospace\";\n        content.style.whiteSpace = \"pre-wrap\";\n        content.style.backgroundColor = \"rgb(255, 221, 221)\";\n        content.textContent = error.stack ?? error.toString();\n        wrapper.append(content);\n        el.append(wrapper);\n      }\n    } else if (Date.now() < root._bokeh_timeout) {\n      setTimeout(() => display_loaded(error), 100);\n    }\n  }\n\n  function run_callbacks() {\n    try {\n      root._bokeh_onload_callbacks.forEach(function(callback) {\n        if (callback != null)\n          callback();\n      });\n    } finally {\n      delete root._bokeh_onload_callbacks\n    }\n    console.debug(\"Bokeh: all callbacks have finished\");\n  }\n\n  function load_libs(css_urls, js_urls, callback) {\n    if (css_urls == null) css_urls = [];\n    if (js_urls == null) js_urls = [];\n\n    root._bokeh_onload_callbacks.push(callback);\n    if (root._bokeh_is_loading > 0) {\n      console.debug(\"Bokeh: BokehJS is being loaded, scheduling callback at\", now());\n      return null;\n    }\n    if (js_urls == null || js_urls.length === 0) {\n      run_callbacks();\n      return null;\n    }\n    console.debug(\"Bokeh: BokehJS not loaded, scheduling load and callback at\", now());\n    root._bokeh_is_loading = css_urls.length + js_urls.length;\n\n    function on_load() {\n      root._bokeh_is_loading--;\n      if (root._bokeh_is_loading === 0) {\n        console.debug(\"Bokeh: all BokehJS libraries/stylesheets loaded\");\n        run_callbacks()\n      }\n    }\n\n    function on_error(url) {\n      console.error(\"failed to load \" + url);\n    }\n\n    for (let i = 0; i < css_urls.length; i++) {\n      const url = css_urls[i];\n      const element = document.createElement(\"link\");\n      element.onload = on_load;\n      element.onerror = on_error.bind(null, url);\n      element.rel = \"stylesheet\";\n      element.type = \"text/css\";\n      element.href = url;\n      console.debug(\"Bokeh: injecting link tag for BokehJS stylesheet: \", url);\n      document.body.appendChild(element);\n    }\n\n    for (let i = 0; i < js_urls.length; i++) {\n      const url = js_urls[i];\n      const element = document.createElement('script');\n      element.onload = on_load;\n      element.onerror = on_error.bind(null, url);\n      element.async = false;\n      element.src = url;\n      console.debug(\"Bokeh: injecting script tag for BokehJS library: \", url);\n      document.head.appendChild(element);\n    }\n  };\n\n  function inject_raw_css(css) {\n    const element = document.createElement(\"style\");\n    element.appendChild(document.createTextNode(css));\n    document.body.appendChild(element);\n  }\n\n  const js_urls = [\"https://cdn.bokeh.org/bokeh/release/bokeh-3.6.2.min.js\", \"https://cdn.bokeh.org/bokeh/release/bokeh-gl-3.6.2.min.js\", \"https://cdn.bokeh.org/bokeh/release/bokeh-widgets-3.6.2.min.js\", \"https://cdn.bokeh.org/bokeh/release/bokeh-tables-3.6.2.min.js\", \"https://cdn.bokeh.org/bokeh/release/bokeh-mathjax-3.6.2.min.js\"];\n  const css_urls = [];\n\n  const inline_js = [    function(Bokeh) {\n      Bokeh.set_log_level(\"info\");\n    },\nfunction(Bokeh) {\n    }\n  ];\n\n  function run_inline_js() {\n    if (root.Bokeh !== undefined || force === true) {\n      try {\n            for (let i = 0; i < inline_js.length; i++) {\n      inline_js[i].call(root, root.Bokeh);\n    }\n\n      } catch (error) {throw error;\n      }} else if (Date.now() < root._bokeh_timeout) {\n      setTimeout(run_inline_js, 100);\n    } else if (!root._bokeh_failed_load) {\n      console.log(\"Bokeh: BokehJS failed to load within specified timeout.\");\n      root._bokeh_failed_load = true;\n    } else if (force !== true) {\n      const cell = $(document.getElementById(null)).parents('.cell').data().cell;\n      cell.output_area.append_execute_result(NB_LOAD_WARNING)\n    }\n  }\n\n  if (root._bokeh_is_loading === 0) {\n    console.debug(\"Bokeh: BokehJS loaded, going straight to plotting\");\n    run_inline_js();\n  } else {\n    load_libs(css_urls, js_urls, function() {\n      console.debug(\"Bokeh: BokehJS plotting callback run at\", now());\n      run_inline_js();\n    });\n  }\n}(window));"
          },
          "metadata": {}
        },
        {
          "output_type": "display_data",
          "data": {
            "text/html": [
              "\n",
              "  <div id=\"a1d60c81-ab5a-4023-9050-2fc2269cfcd1\" data-root-id=\"p1373\" style=\"display: contents;\"></div>\n"
            ]
          },
          "metadata": {}
        },
        {
          "output_type": "display_data",
          "data": {
            "application/javascript": [
              "(function(root) {\n",
              "  function embed_document(root) {\n",
              "  const docs_json = {\"8198b5dc-505f-44ca-a6ee-ee1c89b7b1dc\":{\"version\":\"3.6.2\",\"title\":\"Bokeh Application\",\"roots\":[{\"type\":\"object\",\"name\":\"Figure\",\"id\":\"p1373\",\"attributes\":{\"x_range\":{\"type\":\"object\",\"name\":\"FactorRange\",\"id\":\"p1383\",\"attributes\":{\"factors\":[\"cement\",\"slag\",\"ash\",\"water\",\"superplastic\",\"coarseagg\",\"fineagg\",\"age\",\"strength\"]}},\"y_range\":{\"type\":\"object\",\"name\":\"FactorRange\",\"id\":\"p1384\",\"attributes\":{\"factors\":[\"cement\",\"slag\",\"ash\",\"water\",\"superplastic\",\"coarseagg\",\"fineagg\",\"age\",\"strength\"]}},\"x_scale\":{\"type\":\"object\",\"name\":\"CategoricalScale\",\"id\":\"p1385\"},\"y_scale\":{\"type\":\"object\",\"name\":\"CategoricalScale\",\"id\":\"p1386\"},\"title\":{\"type\":\"object\",\"name\":\"Title\",\"id\":\"p1376\",\"attributes\":{\"text\":\"Correlation Heatmap\"}},\"renderers\":[{\"type\":\"object\",\"name\":\"GlyphRenderer\",\"id\":\"p1404\",\"attributes\":{\"data_source\":{\"type\":\"object\",\"name\":\"ColumnDataSource\",\"id\":\"p1369\",\"attributes\":{\"selected\":{\"type\":\"object\",\"name\":\"Selection\",\"id\":\"p1370\",\"attributes\":{\"indices\":[],\"line_indices\":[]}},\"selection_policy\":{\"type\":\"object\",\"name\":\"UnionRenderers\",\"id\":\"p1371\"},\"data\":{\"type\":\"map\",\"entries\":[[\"index\",{\"type\":\"ndarray\",\"array\":{\"type\":\"bytes\",\"data\":\"AAAAAAEAAAACAAAAAwAAAAQAAAAFAAAABgAAAAcAAAAIAAAACQAAAAoAAAALAAAADAAAAA0AAAAOAAAADwAAABAAAAARAAAAEgAAABMAAAAUAAAAFQAAABYAAAAXAAAAGAAAABkAAAAaAAAAGwAAABwAAAAdAAAAHgAAAB8AAAAgAAAAIQAAACIAAAAjAAAAJAAAACUAAAAmAAAAJwAAACgAAAApAAAAKgAAACsAAAAsAAAALQAAAC4AAAAvAAAAMAAAADEAAAAyAAAAMwAAADQAAAA1AAAANgAAADcAAAA4AAAAOQAAADoAAAA7AAAAPAAAAD0AAAA+AAAAPwAAAEAAAABBAAAAQgAAAEMAAABEAAAARQAAAEYAAABHAAAASAAAAEkAAABKAAAASwAAAEwAAABNAAAATgAAAE8AAABQAAAA\"},\"shape\":[81],\"dtype\":\"int32\",\"order\":\"little\"}],[\"x\",{\"type\":\"ndarray\",\"array\":[\"cement\",\"cement\",\"cement\",\"cement\",\"cement\",\"cement\",\"cement\",\"cement\",\"cement\",\"slag\",\"slag\",\"slag\",\"slag\",\"slag\",\"slag\",\"slag\",\"slag\",\"slag\",\"ash\",\"ash\",\"ash\",\"ash\",\"ash\",\"ash\",\"ash\",\"ash\",\"ash\",\"water\",\"water\",\"water\",\"water\",\"water\",\"water\",\"water\",\"water\",\"water\",\"superplastic\",\"superplastic\",\"superplastic\",\"superplastic\",\"superplastic\",\"superplastic\",\"superplastic\",\"superplastic\",\"superplastic\",\"coarseagg\",\"coarseagg\",\"coarseagg\",\"coarseagg\",\"coarseagg\",\"coarseagg\",\"coarseagg\",\"coarseagg\",\"coarseagg\",\"fineagg\",\"fineagg\",\"fineagg\",\"fineagg\",\"fineagg\",\"fineagg\",\"fineagg\",\"fineagg\",\"fineagg\",\"age\",\"age\",\"age\",\"age\",\"age\",\"age\",\"age\",\"age\",\"age\",\"strength\",\"strength\",\"strength\",\"strength\",\"strength\",\"strength\",\"strength\",\"strength\",\"strength\"],\"shape\":[81],\"dtype\":\"object\",\"order\":\"little\"}],[\"y\",{\"type\":\"ndarray\",\"array\":[\"cement\",\"slag\",\"ash\",\"water\",\"superplastic\",\"coarseagg\",\"fineagg\",\"age\",\"strength\",\"cement\",\"slag\",\"ash\",\"water\",\"superplastic\",\"coarseagg\",\"fineagg\",\"age\",\"strength\",\"cement\",\"slag\",\"ash\",\"water\",\"superplastic\",\"coarseagg\",\"fineagg\",\"age\",\"strength\",\"cement\",\"slag\",\"ash\",\"water\",\"superplastic\",\"coarseagg\",\"fineagg\",\"age\",\"strength\",\"cement\",\"slag\",\"ash\",\"water\",\"superplastic\",\"coarseagg\",\"fineagg\",\"age\",\"strength\",\"cement\",\"slag\",\"ash\",\"water\",\"superplastic\",\"coarseagg\",\"fineagg\",\"age\",\"strength\",\"cement\",\"slag\",\"ash\",\"water\",\"superplastic\",\"coarseagg\",\"fineagg\",\"age\",\"strength\",\"cement\",\"slag\",\"ash\",\"water\",\"superplastic\",\"coarseagg\",\"fineagg\",\"age\",\"strength\",\"cement\",\"slag\",\"ash\",\"water\",\"superplastic\",\"coarseagg\",\"fineagg\",\"age\",\"strength\"],\"shape\":[81],\"dtype\":\"object\",\"order\":\"little\"}],[\"value\",{\"type\":\"ndarray\",\"array\":{\"type\":\"bytes\",\"data\":\"AAAAAAAA8D/sUbgehevRv5qZmZmZmdm/exSuR+F6tL8K16NwPQq3Pylcj8L1KLy/KVyPwvUozL97FK5H4Xq0PwAAAAAAAOA/7FG4HoXr0b8AAAAAAADwP3sUrkfhetS/KVyPwvUovD97FK5H4XqkP+xRuB6F69G/7FG4HoXr0b97FK5H4Xqkv6RwPQrXo8A/mpmZmZmZ2b97FK5H4XrUvwAAAAAAAPA/pHA9Ctej0L9SuB6F61HYP3sUrkfheoS/exSuR+F6tD8zMzMzMzPDvylcj8L1KLy/exSuR+F6tL8pXI/C9Si8P6RwPQrXo9C/AAAAAAAA8D8fhetRuB7lvwrXo3A9Cse/zczMzMzM3L/sUbgehevRP4/C9Shcj9K/CtejcD0Ktz97FK5H4XqkP1K4HoXrUdg/H4XrUbge5b8AAAAAAADwP0jhehSuR9G/KVyPwvUozD9SuB6F61HIv65H4XoUrtc/KVyPwvUovL/sUbgehevRv3sUrkfheoS/CtejcD0Kx79I4XoUrkfRvwAAAAAAAPA/CtejcD0Kx78AAAAAAAAAgHsUrkfhesS/KVyPwvUozL/sUbgehevRv3sUrkfherQ/zczMzMzM3L8pXI/C9SjMPwrXo3A9Cse/AAAAAAAA8D97FK5H4XrEv8P1KFyPwsW/exSuR+F6tD97FK5H4XqkvzMzMzMzM8O/7FG4HoXr0T9SuB6F61HIvwAAAAAAAACAexSuR+F6xL8AAAAAAADwPx+F61G4HtU/AAAAAAAA4D+kcD0K16PAPylcj8L1KLy/j8L1KFyP0r+uR+F6FK7XP3sUrkfhesS/w/UoXI/Cxb8fhetRuB7VPwAAAAAAAPA/\"},\"shape\":[81],\"dtype\":\"float64\",\"order\":\"little\"}]]}}},\"view\":{\"type\":\"object\",\"name\":\"CDSView\",\"id\":\"p1405\",\"attributes\":{\"filter\":{\"type\":\"object\",\"name\":\"AllIndices\",\"id\":\"p1406\"}}},\"glyph\":{\"type\":\"object\",\"name\":\"Rect\",\"id\":\"p1401\",\"attributes\":{\"x\":{\"type\":\"field\",\"field\":\"x\"},\"y\":{\"type\":\"field\",\"field\":\"y\"},\"width\":{\"type\":\"value\",\"value\":1},\"height\":{\"type\":\"value\",\"value\":1},\"line_color\":{\"type\":\"value\",\"value\":null},\"fill_color\":{\"type\":\"field\",\"field\":\"value\",\"transform\":{\"type\":\"object\",\"name\":\"LinearColorMapper\",\"id\":\"p1372\",\"attributes\":{\"palette\":[\"#000003\",\"#000004\",\"#000006\",\"#010007\",\"#010109\",\"#01010B\",\"#02010E\",\"#020210\",\"#030212\",\"#040314\",\"#040316\",\"#050418\",\"#06041B\",\"#07051D\",\"#08061F\",\"#090621\",\"#0A0723\",\"#0B0726\",\"#0D0828\",\"#0E082A\",\"#0F092D\",\"#10092F\",\"#120A32\",\"#130A34\",\"#140B36\",\"#160B39\",\"#170B3B\",\"#190B3E\",\"#1A0B40\",\"#1C0C43\",\"#1D0C45\",\"#1F0C47\",\"#200C4A\",\"#220B4C\",\"#240B4E\",\"#260B50\",\"#270B52\",\"#290B54\",\"#2B0A56\",\"#2D0A58\",\"#2E0A5A\",\"#300A5C\",\"#32095D\",\"#34095F\",\"#350960\",\"#370961\",\"#390962\",\"#3B0964\",\"#3C0965\",\"#3E0966\",\"#400966\",\"#410967\",\"#430A68\",\"#450A69\",\"#460A69\",\"#480B6A\",\"#4A0B6A\",\"#4B0C6B\",\"#4D0C6B\",\"#4F0D6C\",\"#500D6C\",\"#520E6C\",\"#530E6D\",\"#550F6D\",\"#570F6D\",\"#58106D\",\"#5A116D\",\"#5B116E\",\"#5D126E\",\"#5F126E\",\"#60136E\",\"#62146E\",\"#63146E\",\"#65156E\",\"#66156E\",\"#68166E\",\"#6A176E\",\"#6B176E\",\"#6D186E\",\"#6E186E\",\"#70196E\",\"#72196D\",\"#731A6D\",\"#751B6D\",\"#761B6D\",\"#781C6D\",\"#7A1C6D\",\"#7B1D6C\",\"#7D1D6C\",\"#7E1E6C\",\"#801F6B\",\"#811F6B\",\"#83206B\",\"#85206A\",\"#86216A\",\"#88216A\",\"#892269\",\"#8B2269\",\"#8D2369\",\"#8E2468\",\"#902468\",\"#912567\",\"#932567\",\"#952666\",\"#962666\",\"#982765\",\"#992864\",\"#9B2864\",\"#9C2963\",\"#9E2963\",\"#A02A62\",\"#A12B61\",\"#A32B61\",\"#A42C60\",\"#A62C5F\",\"#A72D5F\",\"#A92E5E\",\"#AB2E5D\",\"#AC2F5C\",\"#AE305B\",\"#AF315B\",\"#B1315A\",\"#B23259\",\"#B43358\",\"#B53357\",\"#B73456\",\"#B83556\",\"#BA3655\",\"#BB3754\",\"#BD3753\",\"#BE3852\",\"#BF3951\",\"#C13A50\",\"#C23B4F\",\"#C43C4E\",\"#C53D4D\",\"#C73E4C\",\"#C83E4B\",\"#C93F4A\",\"#CB4049\",\"#CC4148\",\"#CD4247\",\"#CF4446\",\"#D04544\",\"#D14643\",\"#D24742\",\"#D44841\",\"#D54940\",\"#D64A3F\",\"#D74B3E\",\"#D94D3D\",\"#DA4E3B\",\"#DB4F3A\",\"#DC5039\",\"#DD5238\",\"#DE5337\",\"#DF5436\",\"#E05634\",\"#E25733\",\"#E35832\",\"#E45A31\",\"#E55B30\",\"#E65C2E\",\"#E65E2D\",\"#E75F2C\",\"#E8612B\",\"#E9622A\",\"#EA6428\",\"#EB6527\",\"#EC6726\",\"#ED6825\",\"#ED6A23\",\"#EE6C22\",\"#EF6D21\",\"#F06F1F\",\"#F0701E\",\"#F1721D\",\"#F2741C\",\"#F2751A\",\"#F37719\",\"#F37918\",\"#F47A16\",\"#F57C15\",\"#F57E14\",\"#F68012\",\"#F68111\",\"#F78310\",\"#F7850E\",\"#F8870D\",\"#F8880C\",\"#F88A0B\",\"#F98C09\",\"#F98E08\",\"#F99008\",\"#FA9107\",\"#FA9306\",\"#FA9506\",\"#FA9706\",\"#FB9906\",\"#FB9B06\",\"#FB9D06\",\"#FB9E07\",\"#FBA007\",\"#FBA208\",\"#FBA40A\",\"#FBA60B\",\"#FBA80D\",\"#FBAA0E\",\"#FBAC10\",\"#FBAE12\",\"#FBB014\",\"#FBB116\",\"#FBB318\",\"#FBB51A\",\"#FBB71C\",\"#FBB91E\",\"#FABB21\",\"#FABD23\",\"#FABF25\",\"#FAC128\",\"#F9C32A\",\"#F9C52C\",\"#F9C72F\",\"#F8C931\",\"#F8CB34\",\"#F8CD37\",\"#F7CF3A\",\"#F7D13C\",\"#F6D33F\",\"#F6D542\",\"#F5D745\",\"#F5D948\",\"#F4DB4B\",\"#F4DC4F\",\"#F3DE52\",\"#F3E056\",\"#F3E259\",\"#F2E45D\",\"#F2E660\",\"#F1E864\",\"#F1E968\",\"#F1EB6C\",\"#F1ED70\",\"#F1EE74\",\"#F1F079\",\"#F1F27D\",\"#F2F381\",\"#F2F485\",\"#F3F689\",\"#F4F78D\",\"#F5F891\",\"#F6FA95\",\"#F7FB99\",\"#F9FC9D\",\"#FAFDA0\",\"#FCFEA4\"],\"low\":-1,\"high\":1}}}}},\"nonselection_glyph\":{\"type\":\"object\",\"name\":\"Rect\",\"id\":\"p1402\",\"attributes\":{\"x\":{\"type\":\"field\",\"field\":\"x\"},\"y\":{\"type\":\"field\",\"field\":\"y\"},\"width\":{\"type\":\"value\",\"value\":1},\"height\":{\"type\":\"value\",\"value\":1},\"line_color\":{\"type\":\"value\",\"value\":null},\"line_alpha\":{\"type\":\"value\",\"value\":0.1},\"fill_color\":{\"type\":\"field\",\"field\":\"value\",\"transform\":{\"id\":\"p1372\"}},\"fill_alpha\":{\"type\":\"value\",\"value\":0.1},\"hatch_alpha\":{\"type\":\"value\",\"value\":0.1}}},\"muted_glyph\":{\"type\":\"object\",\"name\":\"Rect\",\"id\":\"p1403\",\"attributes\":{\"x\":{\"type\":\"field\",\"field\":\"x\"},\"y\":{\"type\":\"field\",\"field\":\"y\"},\"width\":{\"type\":\"value\",\"value\":1},\"height\":{\"type\":\"value\",\"value\":1},\"line_color\":{\"type\":\"value\",\"value\":null},\"line_alpha\":{\"type\":\"value\",\"value\":0.2},\"fill_color\":{\"type\":\"field\",\"field\":\"value\",\"transform\":{\"id\":\"p1372\"}},\"fill_alpha\":{\"type\":\"value\",\"value\":0.2},\"hatch_alpha\":{\"type\":\"value\",\"value\":0.2}}}}}],\"toolbar\":{\"type\":\"object\",\"name\":\"Toolbar\",\"id\":\"p1382\",\"attributes\":{\"tools\":[{\"type\":\"object\",\"name\":\"HoverTool\",\"id\":\"p1397\",\"attributes\":{\"renderers\":\"auto\",\"tooltips\":\"@x, @y: @value{0.2f}\"}}]}},\"left\":[{\"type\":\"object\",\"name\":\"CategoricalAxis\",\"id\":\"p1392\",\"attributes\":{\"ticker\":{\"type\":\"object\",\"name\":\"CategoricalTicker\",\"id\":\"p1393\"},\"formatter\":{\"type\":\"object\",\"name\":\"CategoricalTickFormatter\",\"id\":\"p1394\"},\"major_label_policy\":{\"type\":\"object\",\"name\":\"AllLabels\",\"id\":\"p1395\"}}}],\"right\":[{\"type\":\"object\",\"name\":\"ColorBar\",\"id\":\"p1411\",\"attributes\":{\"location\":[0,0],\"major_label_policy\":{\"type\":\"object\",\"name\":\"NoOverlap\",\"id\":\"p1412\"},\"label_standoff\":12,\"color_mapper\":{\"id\":\"p1372\"}}}],\"above\":[{\"type\":\"object\",\"name\":\"CategoricalAxis\",\"id\":\"p1387\",\"attributes\":{\"ticker\":{\"type\":\"object\",\"name\":\"CategoricalTicker\",\"id\":\"p1388\"},\"formatter\":{\"type\":\"object\",\"name\":\"CategoricalTickFormatter\",\"id\":\"p1389\"},\"major_label_orientation\":0.75,\"major_label_policy\":{\"type\":\"object\",\"name\":\"AllLabels\",\"id\":\"p1390\"}}}],\"center\":[{\"type\":\"object\",\"name\":\"Grid\",\"id\":\"p1391\",\"attributes\":{\"axis\":{\"id\":\"p1387\"}}},{\"type\":\"object\",\"name\":\"Grid\",\"id\":\"p1396\",\"attributes\":{\"dimension\":1,\"axis\":{\"id\":\"p1392\"}}},{\"type\":\"object\",\"name\":\"LabelSet\",\"id\":\"p1407\",\"attributes\":{\"source\":{\"id\":\"p1369\"},\"x\":{\"type\":\"field\",\"field\":\"x\"},\"y\":{\"type\":\"field\",\"field\":\"y\"},\"text\":{\"type\":\"field\",\"field\":\"value\"},\"text_color\":{\"type\":\"value\",\"value\":\"white\"},\"text_font_size\":{\"type\":\"value\",\"value\":\"8pt\"},\"text_align\":{\"type\":\"value\",\"value\":\"center\"},\"text_baseline\":{\"type\":\"value\",\"value\":\"middle\"}}}]}}]}};\n",
              "  const render_items = [{\"docid\":\"8198b5dc-505f-44ca-a6ee-ee1c89b7b1dc\",\"roots\":{\"p1373\":\"a1d60c81-ab5a-4023-9050-2fc2269cfcd1\"},\"root_ids\":[\"p1373\"]}];\n",
              "  void root.Bokeh.embed.embed_items_notebook(docs_json, render_items);\n",
              "  }\n",
              "  if (root.Bokeh !== undefined) {\n",
              "    embed_document(root);\n",
              "  } else {\n",
              "    let attempts = 0;\n",
              "    const timer = setInterval(function(root) {\n",
              "      if (root.Bokeh !== undefined) {\n",
              "        clearInterval(timer);\n",
              "        embed_document(root);\n",
              "      } else {\n",
              "        attempts++;\n",
              "        if (attempts > 100) {\n",
              "          clearInterval(timer);\n",
              "          console.log(\"Bokeh: ERROR: Unable to run BokehJS code because BokehJS library is missing\");\n",
              "        }\n",
              "      }\n",
              "    }, 10, root)\n",
              "  }\n",
              "})(window);"
            ],
            "application/vnd.bokehjs_exec.v0+json": ""
          },
          "metadata": {
            "application/vnd.bokehjs_exec.v0+json": {
              "id": "p1373"
            }
          }
        }
      ]
    },
    {
      "cell_type": "markdown",
      "source": [
        "Reviewing the heatmap it is possible to observe the inverse correlation between water an superplastic, variable that could be flattened as they are both lightly correlated ( superplastic is used to speed up the compressive strength gain and the reduction of water in the mix).\n",
        " So we will check the performance of the model, reducing the demionsionality of this model , taking water and superplastic into one unique component."
      ],
      "metadata": {
        "id": "nW9wZC6Of9Na"
      }
    },
    {
      "cell_type": "markdown",
      "source": [
        "# Preprocessing data"
      ],
      "metadata": {
        "id": "nFzWhYPF_cQr"
      }
    },
    {
      "cell_type": "code",
      "source": [
        "print(concrete.head())\n",
        "print(concrete.info())"
      ],
      "metadata": {
        "colab": {
          "base_uri": "https://localhost:8080/"
        },
        "id": "neLW5oBA3giZ",
        "outputId": "a8a55155-5d86-4311-f1f4-8eb789cd34ab"
      },
      "execution_count": 203,
      "outputs": [
        {
          "output_type": "stream",
          "name": "stdout",
          "text": [
            "   cement   slag    ash  water  superplastic  coarseagg  fineagg  age  \\\n",
            "0   141.3  212.0    0.0  203.5           0.0      971.8    748.5   28   \n",
            "1   168.9   42.2  124.3  158.3          10.8     1080.8    796.2   14   \n",
            "2   250.0    0.0   95.7  187.4           5.5      956.9    861.2   28   \n",
            "3   266.0  114.0    0.0  228.0           0.0      932.0    670.0   28   \n",
            "4   154.8  183.4    0.0  193.3           9.1     1047.4    696.7   28   \n",
            "\n",
            "   strength  \n",
            "0     29.89  \n",
            "1     23.51  \n",
            "2     29.22  \n",
            "3     45.85  \n",
            "4     18.29  \n",
            "<class 'pandas.core.frame.DataFrame'>\n",
            "RangeIndex: 1030 entries, 0 to 1029\n",
            "Data columns (total 9 columns):\n",
            " #   Column        Non-Null Count  Dtype  \n",
            "---  ------        --------------  -----  \n",
            " 0   cement        1030 non-null   float64\n",
            " 1   slag          1030 non-null   float64\n",
            " 2   ash           1030 non-null   float64\n",
            " 3   water         1030 non-null   float64\n",
            " 4   superplastic  1030 non-null   float64\n",
            " 5   coarseagg     1030 non-null   float64\n",
            " 6   fineagg       1030 non-null   float64\n",
            " 7   age           1030 non-null   int64  \n",
            " 8   strength      1030 non-null   float64\n",
            "dtypes: float64(8), int64(1)\n",
            "memory usage: 72.5 KB\n",
            "None\n"
          ]
        }
      ]
    },
    {
      "cell_type": "markdown",
      "source": [
        "the dataframe is build by the raw materials that composed the concrete mix  (kg/m^3), age (days) and compressive strength of the sample.\n",
        "\n",
        "with the idea of see the impact of adding   categorical values to the model, depending the type of mix, the next code includes the next categories.\n",
        "\n",
        "    * all mix\n",
        "    * slag\n",
        "    * ash\n",
        "    * superplastic\n",
        "    * slag-ash\n",
        "    * slag-superplastic\n",
        "    * ash-superplastic.\n",
        "    * just cement\n"
      ],
      "metadata": {
        "id": "6AI4C3Zr3VfT"
      }
    },
    {
      "cell_type": "code",
      "source": [
        "concrete_pluscat=concrete.copy()\n",
        "# cuales son los escenarios? 9 (matriz 3x3) , la mitad menos 1 ~ 3\n",
        "#a) slag-ash b)slag-superplastic c)ash-superplastic\n",
        "\n",
        "concrete_pluscat['type_mix'] = 'all mix'\n",
        "concrete_pluscat.loc[\n",
        "    (concrete_pluscat['slag']>0) & (concrete_pluscat[['superplastic','ash']] == 0).all(axis=1),\n",
        "    'type_mix',\n",
        "] = 'slag'\n",
        "concrete_pluscat.loc[\n",
        "    (concrete_pluscat['ash']>0) & (concrete_pluscat[['superplastic','slag']] == 0).all(axis=1),\n",
        "    'type_mix',\n",
        "] = 'ash'\n",
        "concrete_pluscat.loc[\n",
        "    (concrete_pluscat['superplastic']>0) & (concrete_pluscat[['slag','ash']] == 0).all(axis=1),\n",
        "    'type_mix',\n",
        "] = 'superplastic'\n",
        "\n",
        "concrete_pluscat.loc[\n",
        "    (concrete_pluscat[['slag', 'ash']].gt(0).all(axis=1)) & (concrete_pluscat['superplastic'] == 0),\n",
        "    'type_mix',\n",
        "] = 'slag-ash'\n",
        "\n",
        "concrete_pluscat.loc[\n",
        "    (concrete_pluscat[['slag', 'superplastic']].gt(0).all(axis=1)) & (concrete_pluscat['ash'] == 0),\n",
        "    'type_mix',\n",
        "] = 'slag-superplastic'\n",
        "\n",
        "concrete_pluscat.loc[\n",
        "    (concrete_pluscat[['ash', 'superplastic']].gt(0).all(axis=1)) & (concrete_pluscat['slag'] == 0),\n",
        "    'type_mix',\n",
        "] = 'ash-superplastic'\n",
        "concrete_pluscat.loc[\n",
        "    (concrete_pluscat['cement']>0) & (concrete_pluscat[['superplastic','slag','ash']] == 0).all(axis=1),\n",
        "    'type_mix',\n",
        "] = 'just cement'"
      ],
      "metadata": {
        "id": "xa_Hso0v3BDC"
      },
      "execution_count": 204,
      "outputs": []
    },
    {
      "cell_type": "code",
      "source": [
        "concrete_pluscat.groupby('type_mix')['strength'].count()"
      ],
      "metadata": {
        "colab": {
          "base_uri": "https://localhost:8080/",
          "height": 335
        },
        "id": "sZ9FW0PnKGa5",
        "outputId": "85fda0ab-9850-49e4-e6f5-5fa695e2a9dd"
      },
      "execution_count": 205,
      "outputs": [
        {
          "output_type": "execute_result",
          "data": {
            "text/plain": [
              "type_mix\n",
              "all mix              225\n",
              "ash                    6\n",
              "ash-superplastic     233\n",
              "just cement          209\n",
              "slag                 164\n",
              "slag-superplastic    170\n",
              "superplastic          23\n",
              "Name: strength, dtype: int64"
            ],
            "text/html": [
              "<div>\n",
              "<style scoped>\n",
              "    .dataframe tbody tr th:only-of-type {\n",
              "        vertical-align: middle;\n",
              "    }\n",
              "\n",
              "    .dataframe tbody tr th {\n",
              "        vertical-align: top;\n",
              "    }\n",
              "\n",
              "    .dataframe thead th {\n",
              "        text-align: right;\n",
              "    }\n",
              "</style>\n",
              "<table border=\"1\" class=\"dataframe\">\n",
              "  <thead>\n",
              "    <tr style=\"text-align: right;\">\n",
              "      <th></th>\n",
              "      <th>strength</th>\n",
              "    </tr>\n",
              "    <tr>\n",
              "      <th>type_mix</th>\n",
              "      <th></th>\n",
              "    </tr>\n",
              "  </thead>\n",
              "  <tbody>\n",
              "    <tr>\n",
              "      <th>all mix</th>\n",
              "      <td>225</td>\n",
              "    </tr>\n",
              "    <tr>\n",
              "      <th>ash</th>\n",
              "      <td>6</td>\n",
              "    </tr>\n",
              "    <tr>\n",
              "      <th>ash-superplastic</th>\n",
              "      <td>233</td>\n",
              "    </tr>\n",
              "    <tr>\n",
              "      <th>just cement</th>\n",
              "      <td>209</td>\n",
              "    </tr>\n",
              "    <tr>\n",
              "      <th>slag</th>\n",
              "      <td>164</td>\n",
              "    </tr>\n",
              "    <tr>\n",
              "      <th>slag-superplastic</th>\n",
              "      <td>170</td>\n",
              "    </tr>\n",
              "    <tr>\n",
              "      <th>superplastic</th>\n",
              "      <td>23</td>\n",
              "    </tr>\n",
              "  </tbody>\n",
              "</table>\n",
              "</div><br><label><b>dtype:</b> int64</label>"
            ]
          },
          "metadata": {},
          "execution_count": 205
        }
      ]
    },
    {
      "cell_type": "markdown",
      "source": [
        "there is no slag-ash mix. giving 6 dummie columns dropping the first one."
      ],
      "metadata": {
        "id": "J5KX7tdqNj1x"
      }
    },
    {
      "cell_type": "markdown",
      "source": [
        "The dummies for the categorical values were created so we can added to the model later"
      ],
      "metadata": {
        "id": "KmWY1sw7G13n"
      }
    },
    {
      "cell_type": "code",
      "source": [
        "# Create the dataframe with all the numerical and categorical values\n",
        "concrete_data=pd.get_dummies(data=concrete_pluscat,columns=['type_mix'],drop_first=True).astype(int)\n",
        "concrete_data.head()\n"
      ],
      "metadata": {
        "colab": {
          "base_uri": "https://localhost:8080/",
          "height": 243
        },
        "id": "v14VALEA5JfO",
        "outputId": "d6d2b9cb-c397-4a43-f124-9fa799bfd5c4"
      },
      "execution_count": 206,
      "outputs": [
        {
          "output_type": "execute_result",
          "data": {
            "text/plain": [
              "   cement  slag  ash  water  superplastic  coarseagg  fineagg  age  strength  \\\n",
              "0     141   212    0    203             0        971      748   28        29   \n",
              "1     168    42  124    158            10       1080      796   14        23   \n",
              "2     250     0   95    187             5        956      861   28        29   \n",
              "3     266   114    0    228             0        932      670   28        45   \n",
              "4     154   183    0    193             9       1047      696   28        18   \n",
              "\n",
              "   type_mix_ash  type_mix_ash-superplastic  type_mix_just cement  \\\n",
              "0             0                          0                     0   \n",
              "1             0                          0                     0   \n",
              "2             0                          1                     0   \n",
              "3             0                          0                     0   \n",
              "4             0                          0                     0   \n",
              "\n",
              "   type_mix_slag  type_mix_slag-superplastic  type_mix_superplastic  \n",
              "0              1                           0                      0  \n",
              "1              0                           0                      0  \n",
              "2              0                           0                      0  \n",
              "3              1                           0                      0  \n",
              "4              0                           1                      0  "
            ],
            "text/html": [
              "\n",
              "  <div id=\"df-ee5973d3-784a-4475-b779-d2a19b2df94a\" class=\"colab-df-container\">\n",
              "    <div>\n",
              "<style scoped>\n",
              "    .dataframe tbody tr th:only-of-type {\n",
              "        vertical-align: middle;\n",
              "    }\n",
              "\n",
              "    .dataframe tbody tr th {\n",
              "        vertical-align: top;\n",
              "    }\n",
              "\n",
              "    .dataframe thead th {\n",
              "        text-align: right;\n",
              "    }\n",
              "</style>\n",
              "<table border=\"1\" class=\"dataframe\">\n",
              "  <thead>\n",
              "    <tr style=\"text-align: right;\">\n",
              "      <th></th>\n",
              "      <th>cement</th>\n",
              "      <th>slag</th>\n",
              "      <th>ash</th>\n",
              "      <th>water</th>\n",
              "      <th>superplastic</th>\n",
              "      <th>coarseagg</th>\n",
              "      <th>fineagg</th>\n",
              "      <th>age</th>\n",
              "      <th>strength</th>\n",
              "      <th>type_mix_ash</th>\n",
              "      <th>type_mix_ash-superplastic</th>\n",
              "      <th>type_mix_just cement</th>\n",
              "      <th>type_mix_slag</th>\n",
              "      <th>type_mix_slag-superplastic</th>\n",
              "      <th>type_mix_superplastic</th>\n",
              "    </tr>\n",
              "  </thead>\n",
              "  <tbody>\n",
              "    <tr>\n",
              "      <th>0</th>\n",
              "      <td>141</td>\n",
              "      <td>212</td>\n",
              "      <td>0</td>\n",
              "      <td>203</td>\n",
              "      <td>0</td>\n",
              "      <td>971</td>\n",
              "      <td>748</td>\n",
              "      <td>28</td>\n",
              "      <td>29</td>\n",
              "      <td>0</td>\n",
              "      <td>0</td>\n",
              "      <td>0</td>\n",
              "      <td>1</td>\n",
              "      <td>0</td>\n",
              "      <td>0</td>\n",
              "    </tr>\n",
              "    <tr>\n",
              "      <th>1</th>\n",
              "      <td>168</td>\n",
              "      <td>42</td>\n",
              "      <td>124</td>\n",
              "      <td>158</td>\n",
              "      <td>10</td>\n",
              "      <td>1080</td>\n",
              "      <td>796</td>\n",
              "      <td>14</td>\n",
              "      <td>23</td>\n",
              "      <td>0</td>\n",
              "      <td>0</td>\n",
              "      <td>0</td>\n",
              "      <td>0</td>\n",
              "      <td>0</td>\n",
              "      <td>0</td>\n",
              "    </tr>\n",
              "    <tr>\n",
              "      <th>2</th>\n",
              "      <td>250</td>\n",
              "      <td>0</td>\n",
              "      <td>95</td>\n",
              "      <td>187</td>\n",
              "      <td>5</td>\n",
              "      <td>956</td>\n",
              "      <td>861</td>\n",
              "      <td>28</td>\n",
              "      <td>29</td>\n",
              "      <td>0</td>\n",
              "      <td>1</td>\n",
              "      <td>0</td>\n",
              "      <td>0</td>\n",
              "      <td>0</td>\n",
              "      <td>0</td>\n",
              "    </tr>\n",
              "    <tr>\n",
              "      <th>3</th>\n",
              "      <td>266</td>\n",
              "      <td>114</td>\n",
              "      <td>0</td>\n",
              "      <td>228</td>\n",
              "      <td>0</td>\n",
              "      <td>932</td>\n",
              "      <td>670</td>\n",
              "      <td>28</td>\n",
              "      <td>45</td>\n",
              "      <td>0</td>\n",
              "      <td>0</td>\n",
              "      <td>0</td>\n",
              "      <td>1</td>\n",
              "      <td>0</td>\n",
              "      <td>0</td>\n",
              "    </tr>\n",
              "    <tr>\n",
              "      <th>4</th>\n",
              "      <td>154</td>\n",
              "      <td>183</td>\n",
              "      <td>0</td>\n",
              "      <td>193</td>\n",
              "      <td>9</td>\n",
              "      <td>1047</td>\n",
              "      <td>696</td>\n",
              "      <td>28</td>\n",
              "      <td>18</td>\n",
              "      <td>0</td>\n",
              "      <td>0</td>\n",
              "      <td>0</td>\n",
              "      <td>0</td>\n",
              "      <td>1</td>\n",
              "      <td>0</td>\n",
              "    </tr>\n",
              "  </tbody>\n",
              "</table>\n",
              "</div>\n",
              "    <div class=\"colab-df-buttons\">\n",
              "\n",
              "  <div class=\"colab-df-container\">\n",
              "    <button class=\"colab-df-convert\" onclick=\"convertToInteractive('df-ee5973d3-784a-4475-b779-d2a19b2df94a')\"\n",
              "            title=\"Convert this dataframe to an interactive table.\"\n",
              "            style=\"display:none;\">\n",
              "\n",
              "  <svg xmlns=\"http://www.w3.org/2000/svg\" height=\"24px\" viewBox=\"0 -960 960 960\">\n",
              "    <path d=\"M120-120v-720h720v720H120Zm60-500h600v-160H180v160Zm220 220h160v-160H400v160Zm0 220h160v-160H400v160ZM180-400h160v-160H180v160Zm440 0h160v-160H620v160ZM180-180h160v-160H180v160Zm440 0h160v-160H620v160Z\"/>\n",
              "  </svg>\n",
              "    </button>\n",
              "\n",
              "  <style>\n",
              "    .colab-df-container {\n",
              "      display:flex;\n",
              "      gap: 12px;\n",
              "    }\n",
              "\n",
              "    .colab-df-convert {\n",
              "      background-color: #E8F0FE;\n",
              "      border: none;\n",
              "      border-radius: 50%;\n",
              "      cursor: pointer;\n",
              "      display: none;\n",
              "      fill: #1967D2;\n",
              "      height: 32px;\n",
              "      padding: 0 0 0 0;\n",
              "      width: 32px;\n",
              "    }\n",
              "\n",
              "    .colab-df-convert:hover {\n",
              "      background-color: #E2EBFA;\n",
              "      box-shadow: 0px 1px 2px rgba(60, 64, 67, 0.3), 0px 1px 3px 1px rgba(60, 64, 67, 0.15);\n",
              "      fill: #174EA6;\n",
              "    }\n",
              "\n",
              "    .colab-df-buttons div {\n",
              "      margin-bottom: 4px;\n",
              "    }\n",
              "\n",
              "    [theme=dark] .colab-df-convert {\n",
              "      background-color: #3B4455;\n",
              "      fill: #D2E3FC;\n",
              "    }\n",
              "\n",
              "    [theme=dark] .colab-df-convert:hover {\n",
              "      background-color: #434B5C;\n",
              "      box-shadow: 0px 1px 3px 1px rgba(0, 0, 0, 0.15);\n",
              "      filter: drop-shadow(0px 1px 2px rgba(0, 0, 0, 0.3));\n",
              "      fill: #FFFFFF;\n",
              "    }\n",
              "  </style>\n",
              "\n",
              "    <script>\n",
              "      const buttonEl =\n",
              "        document.querySelector('#df-ee5973d3-784a-4475-b779-d2a19b2df94a button.colab-df-convert');\n",
              "      buttonEl.style.display =\n",
              "        google.colab.kernel.accessAllowed ? 'block' : 'none';\n",
              "\n",
              "      async function convertToInteractive(key) {\n",
              "        const element = document.querySelector('#df-ee5973d3-784a-4475-b779-d2a19b2df94a');\n",
              "        const dataTable =\n",
              "          await google.colab.kernel.invokeFunction('convertToInteractive',\n",
              "                                                    [key], {});\n",
              "        if (!dataTable) return;\n",
              "\n",
              "        const docLinkHtml = 'Like what you see? Visit the ' +\n",
              "          '<a target=\"_blank\" href=https://colab.research.google.com/notebooks/data_table.ipynb>data table notebook</a>'\n",
              "          + ' to learn more about interactive tables.';\n",
              "        element.innerHTML = '';\n",
              "        dataTable['output_type'] = 'display_data';\n",
              "        await google.colab.output.renderOutput(dataTable, element);\n",
              "        const docLink = document.createElement('div');\n",
              "        docLink.innerHTML = docLinkHtml;\n",
              "        element.appendChild(docLink);\n",
              "      }\n",
              "    </script>\n",
              "  </div>\n",
              "\n",
              "\n",
              "<div id=\"df-12331d38-5b7c-4766-9edb-f6b4f4a9e9af\">\n",
              "  <button class=\"colab-df-quickchart\" onclick=\"quickchart('df-12331d38-5b7c-4766-9edb-f6b4f4a9e9af')\"\n",
              "            title=\"Suggest charts\"\n",
              "            style=\"display:none;\">\n",
              "\n",
              "<svg xmlns=\"http://www.w3.org/2000/svg\" height=\"24px\"viewBox=\"0 0 24 24\"\n",
              "     width=\"24px\">\n",
              "    <g>\n",
              "        <path d=\"M19 3H5c-1.1 0-2 .9-2 2v14c0 1.1.9 2 2 2h14c1.1 0 2-.9 2-2V5c0-1.1-.9-2-2-2zM9 17H7v-7h2v7zm4 0h-2V7h2v10zm4 0h-2v-4h2v4z\"/>\n",
              "    </g>\n",
              "</svg>\n",
              "  </button>\n",
              "\n",
              "<style>\n",
              "  .colab-df-quickchart {\n",
              "      --bg-color: #E8F0FE;\n",
              "      --fill-color: #1967D2;\n",
              "      --hover-bg-color: #E2EBFA;\n",
              "      --hover-fill-color: #174EA6;\n",
              "      --disabled-fill-color: #AAA;\n",
              "      --disabled-bg-color: #DDD;\n",
              "  }\n",
              "\n",
              "  [theme=dark] .colab-df-quickchart {\n",
              "      --bg-color: #3B4455;\n",
              "      --fill-color: #D2E3FC;\n",
              "      --hover-bg-color: #434B5C;\n",
              "      --hover-fill-color: #FFFFFF;\n",
              "      --disabled-bg-color: #3B4455;\n",
              "      --disabled-fill-color: #666;\n",
              "  }\n",
              "\n",
              "  .colab-df-quickchart {\n",
              "    background-color: var(--bg-color);\n",
              "    border: none;\n",
              "    border-radius: 50%;\n",
              "    cursor: pointer;\n",
              "    display: none;\n",
              "    fill: var(--fill-color);\n",
              "    height: 32px;\n",
              "    padding: 0;\n",
              "    width: 32px;\n",
              "  }\n",
              "\n",
              "  .colab-df-quickchart:hover {\n",
              "    background-color: var(--hover-bg-color);\n",
              "    box-shadow: 0 1px 2px rgba(60, 64, 67, 0.3), 0 1px 3px 1px rgba(60, 64, 67, 0.15);\n",
              "    fill: var(--button-hover-fill-color);\n",
              "  }\n",
              "\n",
              "  .colab-df-quickchart-complete:disabled,\n",
              "  .colab-df-quickchart-complete:disabled:hover {\n",
              "    background-color: var(--disabled-bg-color);\n",
              "    fill: var(--disabled-fill-color);\n",
              "    box-shadow: none;\n",
              "  }\n",
              "\n",
              "  .colab-df-spinner {\n",
              "    border: 2px solid var(--fill-color);\n",
              "    border-color: transparent;\n",
              "    border-bottom-color: var(--fill-color);\n",
              "    animation:\n",
              "      spin 1s steps(1) infinite;\n",
              "  }\n",
              "\n",
              "  @keyframes spin {\n",
              "    0% {\n",
              "      border-color: transparent;\n",
              "      border-bottom-color: var(--fill-color);\n",
              "      border-left-color: var(--fill-color);\n",
              "    }\n",
              "    20% {\n",
              "      border-color: transparent;\n",
              "      border-left-color: var(--fill-color);\n",
              "      border-top-color: var(--fill-color);\n",
              "    }\n",
              "    30% {\n",
              "      border-color: transparent;\n",
              "      border-left-color: var(--fill-color);\n",
              "      border-top-color: var(--fill-color);\n",
              "      border-right-color: var(--fill-color);\n",
              "    }\n",
              "    40% {\n",
              "      border-color: transparent;\n",
              "      border-right-color: var(--fill-color);\n",
              "      border-top-color: var(--fill-color);\n",
              "    }\n",
              "    60% {\n",
              "      border-color: transparent;\n",
              "      border-right-color: var(--fill-color);\n",
              "    }\n",
              "    80% {\n",
              "      border-color: transparent;\n",
              "      border-right-color: var(--fill-color);\n",
              "      border-bottom-color: var(--fill-color);\n",
              "    }\n",
              "    90% {\n",
              "      border-color: transparent;\n",
              "      border-bottom-color: var(--fill-color);\n",
              "    }\n",
              "  }\n",
              "</style>\n",
              "\n",
              "  <script>\n",
              "    async function quickchart(key) {\n",
              "      const quickchartButtonEl =\n",
              "        document.querySelector('#' + key + ' button');\n",
              "      quickchartButtonEl.disabled = true;  // To prevent multiple clicks.\n",
              "      quickchartButtonEl.classList.add('colab-df-spinner');\n",
              "      try {\n",
              "        const charts = await google.colab.kernel.invokeFunction(\n",
              "            'suggestCharts', [key], {});\n",
              "      } catch (error) {\n",
              "        console.error('Error during call to suggestCharts:', error);\n",
              "      }\n",
              "      quickchartButtonEl.classList.remove('colab-df-spinner');\n",
              "      quickchartButtonEl.classList.add('colab-df-quickchart-complete');\n",
              "    }\n",
              "    (() => {\n",
              "      let quickchartButtonEl =\n",
              "        document.querySelector('#df-12331d38-5b7c-4766-9edb-f6b4f4a9e9af button');\n",
              "      quickchartButtonEl.style.display =\n",
              "        google.colab.kernel.accessAllowed ? 'block' : 'none';\n",
              "    })();\n",
              "  </script>\n",
              "</div>\n",
              "\n",
              "    </div>\n",
              "  </div>\n"
            ],
            "application/vnd.google.colaboratory.intrinsic+json": {
              "type": "dataframe",
              "variable_name": "concrete_data",
              "summary": "{\n  \"name\": \"concrete_data\",\n  \"rows\": 1030,\n  \"fields\": [\n    {\n      \"column\": \"cement\",\n      \"properties\": {\n        \"dtype\": \"number\",\n        \"std\": 104,\n        \"min\": 102,\n        \"max\": 540,\n        \"num_unique_values\": 180,\n        \"samples\": [\n          229,\n          326,\n          261\n        ],\n        \"semantic_type\": \"\",\n        \"description\": \"\"\n      }\n    },\n    {\n      \"column\": \"slag\",\n      \"properties\": {\n        \"dtype\": \"number\",\n        \"std\": 86,\n        \"min\": 0,\n        \"max\": 359,\n        \"num_unique_values\": 123,\n        \"samples\": [\n          99,\n          236,\n          148\n        ],\n        \"semantic_type\": \"\",\n        \"description\": \"\"\n      }\n    },\n    {\n      \"column\": \"ash\",\n      \"properties\": {\n        \"dtype\": \"number\",\n        \"std\": 63,\n        \"min\": 0,\n        \"max\": 200,\n        \"num_unique_values\": 89,\n        \"samples\": [\n          190,\n          175,\n          116\n        ],\n        \"semantic_type\": \"\",\n        \"description\": \"\"\n      }\n    },\n    {\n      \"column\": \"water\",\n      \"properties\": {\n        \"dtype\": \"number\",\n        \"std\": 21,\n        \"min\": 121,\n        \"max\": 247,\n        \"num_unique_values\": 81,\n        \"samples\": [\n          141,\n          203,\n          127\n        ],\n        \"semantic_type\": \"\",\n        \"description\": \"\"\n      }\n    },\n    {\n      \"column\": \"superplastic\",\n      \"properties\": {\n        \"dtype\": \"number\",\n        \"std\": 5,\n        \"min\": 0,\n        \"max\": 32,\n        \"num_unique_values\": 25,\n        \"samples\": [\n          8,\n          2,\n          0\n        ],\n        \"semantic_type\": \"\",\n        \"description\": \"\"\n      }\n    },\n    {\n      \"column\": \"coarseagg\",\n      \"properties\": {\n        \"dtype\": \"number\",\n        \"std\": 77,\n        \"min\": 801,\n        \"max\": 1145,\n        \"num_unique_values\": 187,\n        \"samples\": [\n          1021,\n          824,\n          1125\n        ],\n        \"semantic_type\": \"\",\n        \"description\": \"\"\n      }\n    },\n    {\n      \"column\": \"fineagg\",\n      \"properties\": {\n        \"dtype\": \"number\",\n        \"std\": 80,\n        \"min\": 594,\n        \"max\": 992,\n        \"num_unique_values\": 192,\n        \"samples\": [\n          712,\n          665,\n          815\n        ],\n        \"semantic_type\": \"\",\n        \"description\": \"\"\n      }\n    },\n    {\n      \"column\": \"age\",\n      \"properties\": {\n        \"dtype\": \"number\",\n        \"std\": 63,\n        \"min\": 1,\n        \"max\": 365,\n        \"num_unique_values\": 14,\n        \"samples\": [\n          365,\n          360,\n          28\n        ],\n        \"semantic_type\": \"\",\n        \"description\": \"\"\n      }\n    },\n    {\n      \"column\": \"strength\",\n      \"properties\": {\n        \"dtype\": \"number\",\n        \"std\": 16,\n        \"min\": 2,\n        \"max\": 82,\n        \"num_unique_values\": 80,\n        \"samples\": [\n          61,\n          29,\n          37\n        ],\n        \"semantic_type\": \"\",\n        \"description\": \"\"\n      }\n    },\n    {\n      \"column\": \"type_mix_ash\",\n      \"properties\": {\n        \"dtype\": \"number\",\n        \"std\": 0,\n        \"min\": 0,\n        \"max\": 1,\n        \"num_unique_values\": 2,\n        \"samples\": [\n          1,\n          0\n        ],\n        \"semantic_type\": \"\",\n        \"description\": \"\"\n      }\n    },\n    {\n      \"column\": \"type_mix_ash-superplastic\",\n      \"properties\": {\n        \"dtype\": \"number\",\n        \"std\": 0,\n        \"min\": 0,\n        \"max\": 1,\n        \"num_unique_values\": 2,\n        \"samples\": [\n          1,\n          0\n        ],\n        \"semantic_type\": \"\",\n        \"description\": \"\"\n      }\n    },\n    {\n      \"column\": \"type_mix_just cement\",\n      \"properties\": {\n        \"dtype\": \"number\",\n        \"std\": 0,\n        \"min\": 0,\n        \"max\": 1,\n        \"num_unique_values\": 2,\n        \"samples\": [\n          1,\n          0\n        ],\n        \"semantic_type\": \"\",\n        \"description\": \"\"\n      }\n    },\n    {\n      \"column\": \"type_mix_slag\",\n      \"properties\": {\n        \"dtype\": \"number\",\n        \"std\": 0,\n        \"min\": 0,\n        \"max\": 1,\n        \"num_unique_values\": 2,\n        \"samples\": [\n          0,\n          1\n        ],\n        \"semantic_type\": \"\",\n        \"description\": \"\"\n      }\n    },\n    {\n      \"column\": \"type_mix_slag-superplastic\",\n      \"properties\": {\n        \"dtype\": \"number\",\n        \"std\": 0,\n        \"min\": 0,\n        \"max\": 1,\n        \"num_unique_values\": 2,\n        \"samples\": [\n          1,\n          0\n        ],\n        \"semantic_type\": \"\",\n        \"description\": \"\"\n      }\n    },\n    {\n      \"column\": \"type_mix_superplastic\",\n      \"properties\": {\n        \"dtype\": \"number\",\n        \"std\": 0,\n        \"min\": 0,\n        \"max\": 1,\n        \"num_unique_values\": 2,\n        \"samples\": [\n          1,\n          0\n        ],\n        \"semantic_type\": \"\",\n        \"description\": \"\"\n      }\n    }\n  ]\n}"
            }
          },
          "metadata": {},
          "execution_count": 206
        }
      ]
    },
    {
      "cell_type": "code",
      "source": [
        "RED = \"\\033[31m\"\n",
        "RESET = \"\\033[0m\"\n",
        "\n",
        "ptg_data28=(len(concrete[concrete['age']<=100])/len(concrete))*100\n",
        "\n",
        "\n",
        "print(f'The percentage of data under 100 days over the total is {RED}{round(ptg_data28,3)} %{RESET}')\n",
        "\n",
        "print(f\"{RED}{len(concrete[concrete['age']>100])}{RESET} samples are over 100 days\")\n",
        "print(f\"{RED}{len(concrete[concrete['age']<=100])}{RESET} samples are under 100 days\")"
      ],
      "metadata": {
        "colab": {
          "base_uri": "https://localhost:8080/"
        },
        "id": "-KRpsf_J7tVr",
        "outputId": "caf4b659-c7ca-4461-caee-92b469052afc"
      },
      "execution_count": 207,
      "outputs": [
        {
          "output_type": "stream",
          "name": "stdout",
          "text": [
            "The percentage of data under 100 days over the total is \u001b[31m93.981 %\u001b[0m\n",
            "\u001b[31m62\u001b[0m samples are over 100 days\n",
            "\u001b[31m968\u001b[0m samples are under 100 days\n"
          ]
        }
      ]
    },
    {
      "cell_type": "markdown",
      "source": [
        "in the first capstone project, it is possible to identify that big amount of the data is below 100 days, using mathematical operations we can observe that ***93,981 %*** of the samples are obtain before the 100 days, so this data is the most representative of the whole dataset, being the samples above that age potential noise in the model as they also represent values of just two particular mixes (slag and all mix). Cause of this, the samples above 100 days will be removed of the model an this will predict compressive strength between 0 and 100 days."
      ],
      "metadata": {
        "id": "QI4Exf8r87Yu"
      }
    },
    {
      "cell_type": "code",
      "source": [
        "# concrete_model_data=concrete_data[concrete_data['age']<=100]\n",
        "from sklearn.linear_model import LinearRegression\n",
        "from sklearn.model_selection import train_test_split\n",
        "\n",
        "concrete_model_data=concrete_data[concrete_data['age']<=100]\n",
        "X_100=concrete_model_data.drop(columns=['strength'])\n",
        "y_100=concrete_model_data['strength']\n",
        "X_train_100,X_test_100,y_train_100,y_test_100=train_test_split(X_100,y_100,test_size=0.25)\n",
        "print(y_train_100.shape,X_train_100.shape,y_test_100.shape)"
      ],
      "metadata": {
        "colab": {
          "base_uri": "https://localhost:8080/"
        },
        "id": "yUJdh4x3B-W9",
        "outputId": "4fda2e12-cedc-4f22-888a-1def4bcd397f"
      },
      "execution_count": 208,
      "outputs": [
        {
          "output_type": "stream",
          "name": "stdout",
          "text": [
            "(726,) (726, 14) (242,)\n"
          ]
        }
      ]
    },
    {
      "cell_type": "code",
      "source": [
        "\n",
        "\n",
        "X=concrete_data.drop(columns=['strength'])\n",
        "y=concrete_data['strength']\n",
        "\n",
        "X_train,X_test,y_train,y_test=train_test_split(X,y,test_size=0.25)\n"
      ],
      "metadata": {
        "id": "SE0jo4DrHnQN"
      },
      "execution_count": 209,
      "outputs": []
    },
    {
      "cell_type": "code",
      "source": [
        "# Seprating my numeric variables and nominal/categorical values\n",
        "num_col=[a for a in concrete.columns]\n",
        "num_col.remove('strength')\n",
        "#numerical values\n",
        "X_train_num=X_train[num_col]\n",
        "X_test_num=X_test[num_col]\n",
        "print(X_train_num.shape)\n",
        "#numerical values dataset 2 (100 days)\n",
        "X_train_num_100=X_train_100[num_col]\n",
        "X_test_num_100=X_test_100[num_col]\n",
        "print(X_train_num_100.shape)\n",
        "\n",
        "#nominal values\n",
        "X_train_nom=X_train.drop(columns=num_col)\n",
        "X_test_nom=X_test.drop(columns=num_col)\n",
        "#nominal values dataset 2 (100 days)\n",
        "X_train_nom_100=X_train_100.drop(columns=num_col)\n",
        "X_test_nom_100=X_test_100.drop(columns=num_col)\n",
        "\n",
        "print(X_train.shape)"
      ],
      "metadata": {
        "colab": {
          "base_uri": "https://localhost:8080/"
        },
        "id": "8n7WDCMKH7GL",
        "outputId": "1669872f-59ff-4f82-a2a1-8ba247601232"
      },
      "execution_count": 210,
      "outputs": [
        {
          "output_type": "stream",
          "name": "stdout",
          "text": [
            "(772, 8)\n",
            "(726, 8)\n",
            "(772, 14)\n"
          ]
        }
      ]
    },
    {
      "cell_type": "markdown",
      "source": [
        "##Scalling the data"
      ],
      "metadata": {
        "id": "6mYC0ktRc6dp"
      }
    },
    {
      "cell_type": "code",
      "source": [
        "from sklearn.decomposition import PCA\n",
        "from sklearn.preprocessing import StandardScaler, MinMaxScaler\n",
        "\n",
        "scale_data=StandardScaler()\n",
        "print(pd.DataFrame(scale_data.fit_transform(X_train_num)))\n",
        "\n",
        "X_train_num_scale=scale_data.fit_transform(X_train_num)\n",
        "X_test_num_scale=scale_data.fit_transform(X_test_num)\n",
        "\n",
        "#dataset 2 (100 days)\n",
        "X_train_num_scale_100=scale_data.fit_transform(X_train_num_100)\n",
        "X_test_num_scale_100=scale_data.fit_transform(X_test_num_100)\n"
      ],
      "metadata": {
        "colab": {
          "base_uri": "https://localhost:8080/"
        },
        "id": "PVGDKx4jp517",
        "outputId": "1ec81ce2-e566-4339-da20-8ce7c8b9e97c"
      },
      "execution_count": 211,
      "outputs": [
        {
          "output_type": "stream",
          "name": "stdout",
          "text": [
            "            0         1         2         3         4         5         6  \\\n",
            "0    0.469852  0.778003 -0.843605  2.133612 -1.020923 -0.509796 -2.185067   \n",
            "1    0.754611  1.321601 -0.843605 -0.771652  0.823297 -0.355357 -0.215266   \n",
            "2    0.469852  0.778003 -0.843605  2.133612 -1.020923 -0.509796 -2.185067   \n",
            "3    0.640707 -0.864358 -0.843605  0.998743 -1.020923  0.030741  0.029430   \n",
            "4   -0.289505 -0.864358 -0.843605  0.181638 -1.020923  1.793922  0.139543   \n",
            "..        ...       ...       ...       ...       ...       ...       ...   \n",
            "767 -0.849530  2.489759 -0.843605  0.181638 -1.020923  0.339620 -0.839240   \n",
            "768  1.371588 -0.320760 -0.843605  2.133612 -1.020923 -0.509796 -2.185067   \n",
            "769 -1.039369 -0.286062  1.851555 -0.771652 -0.014985  0.442579  0.249656   \n",
            "770 -0.659691  0.269102 -0.469710  0.000059 -0.014985  1.201905  0.151778   \n",
            "771 -0.612231 -0.239798  1.072607 -1.861126  0.823297  1.330605  0.237421   \n",
            "\n",
            "            7  \n",
            "0    0.679044  \n",
            "1   -0.617491  \n",
            "2    4.974790  \n",
            "3   -0.508144  \n",
            "4   -0.617491  \n",
            "..        ...  \n",
            "767 -0.617491  \n",
            "768  0.679044  \n",
            "769 -0.508144  \n",
            "770  0.835252  \n",
            "771  0.835252  \n",
            "\n",
            "[772 rows x 8 columns]\n"
          ]
        }
      ]
    },
    {
      "cell_type": "markdown",
      "source": [
        "###Lineal model"
      ],
      "metadata": {
        "id": "bDgGS0QfNUhy"
      }
    },
    {
      "cell_type": "code",
      "source": [
        "from sklearn import linear_model\n",
        "#using all data\n",
        "lineal=linear_model.LinearRegression()\n",
        "lineal.fit(X_train_num_scale,y_train)\n",
        "l0=round(lineal.score(X_train_num_scale,y_train),3)\n",
        "l1=round(lineal.score(X_test_num_scale,y_test),3)\n",
        "score_lineal=[l0,l1]\n",
        "#using data with age below 100\n",
        "\n",
        "lineal_100=linear_model.LinearRegression()\n",
        "lineal_100.fit(X_train_num_scale_100,y_train_100)\n",
        "la=round(lineal_100.score(X_train_num_scale_100,y_train_100),3)\n",
        "lb=round(lineal_100.score(X_test_num_scale_100,y_test_100),3)\n",
        "score_lineal_100=[la,lb]\n",
        "df_lineal=pd.DataFrame({'type_score':['Training','Testing'],'all data R^2':score_lineal,'filtered data R^2':score_lineal_100}).set_index('type_score')\n",
        "print('values of scores for lineal model')\n",
        "print(df_lineal)"
      ],
      "metadata": {
        "colab": {
          "base_uri": "https://localhost:8080/"
        },
        "id": "sEaLimCuzv63",
        "outputId": "c2cc9e2d-acf2-49cd-ebdb-dca00f6238bc"
      },
      "execution_count": 212,
      "outputs": [
        {
          "output_type": "stream",
          "name": "stdout",
          "text": [
            "values of scores for lineal model\n",
            "            all data R^2  filtered data R^2\n",
            "type_score                                 \n",
            "Training           0.613              0.757\n",
            "Testing            0.611              0.771\n"
          ]
        }
      ]
    },
    {
      "cell_type": "markdown",
      "source": [
        "###Reciprocal logaritmic\n"
      ],
      "metadata": {
        "id": "Z30EuTozNfXI"
      }
    },
    {
      "cell_type": "code",
      "source": [
        "import numpy as np\n",
        "\n",
        "def addReciprocalLogFeatures(numeric):\n",
        "    log_feats = numeric.copy()\n",
        "    valid = (log_feats != 1) & (log_feats > 0)\n",
        "    log_feats[valid] = np.log(log_feats[valid]) / np.log(10)\n",
        "    log_feats[log_feats <= 0] = 1e-10\n",
        "    rec_log_feats = log_feats\n",
        "    return np.hstack([numeric, rec_log_feats, numeric * rec_log_feats])\n",
        "\n",
        "X_train_reclog = addReciprocalLogFeatures(X_train_num_scale)\n",
        "X_test_reclog = addReciprocalLogFeatures(X_test_num_scale)\n",
        "#for filtered data\n",
        "X_train_reclog_100 = addReciprocalLogFeatures(X_train_num_scale_100)\n",
        "X_test_reclog_100 = addReciprocalLogFeatures(X_test_num_scale_100)\n"
      ],
      "metadata": {
        "id": "GPCwtn5VsR_S"
      },
      "execution_count": 213,
      "outputs": []
    },
    {
      "cell_type": "markdown",
      "source": [],
      "metadata": {
        "id": "kuNSBhSENnhH"
      }
    },
    {
      "cell_type": "code",
      "source": [
        "#log regression\n",
        "lineal_rl=linear_model.LinearRegression()\n",
        "lineal_rl.fit(X_train_reclog,y_train)\n",
        "lr0=lineal_rl.score(X_train_reclog,y_train)\n",
        "lr1=lineal_rl.score(X_test_reclog,y_test)\n",
        "score_lr=[lr0,lr1]\n",
        "# for filtered data\n",
        "lineal_rl_100=linear_model.LinearRegression()\n",
        "lineal_rl_100.fit(X_train_reclog_100,y_train_100)\n",
        "lr0_100=lineal_rl_100.score(X_train_reclog_100,y_train_100)\n",
        "lr1_100=lineal_rl_100.score(X_test_reclog_100,y_test_100)\n",
        "score_lr_100=[lr0_100,lr1_100]\n",
        "predicted_reclog_100=lineal_rl_100.predict(X_test_reclog_100)\n",
        "\n",
        "df_lr=pd.DataFrame({'type_score':['Training','Testing'],'all data R^2':score_lr,'filtered data R^2':score_lr_100}).set_index('type_score')\n",
        "print('values of scores for lineal model')\n",
        "print(df_lr)"
      ],
      "metadata": {
        "colab": {
          "base_uri": "https://localhost:8080/"
        },
        "id": "lDSCIEdiMwuw",
        "outputId": "1682c26f-a44d-4238-af39-fe0ab712e7aa"
      },
      "execution_count": 214,
      "outputs": [
        {
          "output_type": "stream",
          "name": "stdout",
          "text": [
            "values of scores for lineal model\n",
            "            all data R^2  filtered data R^2\n",
            "type_score                                 \n",
            "Training        0.794094           0.848194\n",
            "Testing         0.748726           0.813409\n"
          ]
        }
      ]
    },
    {
      "cell_type": "code",
      "source": [
        "BLUE = \"\\033[1;34m\"\n",
        "RESET = \"\\033[0m\"\n",
        "\n",
        "df1 = pd.DataFrame({\"Predicted_100\": predicted_reclog_100, \"Actual_100\": y_test_100})\n",
        "df1['% Difference(100 days)'] = (abs(df1['Predicted_100']-df1['Actual_100'])/df1['Actual_100'])*100\n",
        "\n",
        "print(\"Percentage Difference between Predicted and Actual Values (rec.log model with age bellow 100 days)\")\n",
        "print(df1.head())\n",
        "print(f\"\\nMean % Difference between Predicted and Actual Values of data bellow 100 days:{BLUE}{str(round(df1['% Difference(100 days)'].mean(),3))}%{RESET}\")"
      ],
      "metadata": {
        "id": "hEap9zGeObd6",
        "outputId": "b11cef61-5c11-4589-ba5d-fa755032963a",
        "colab": {
          "base_uri": "https://localhost:8080/"
        }
      },
      "execution_count": 215,
      "outputs": [
        {
          "output_type": "stream",
          "name": "stdout",
          "text": [
            "Percentage Difference between Predicted and Actual Values (rec.log model with age bellow 100 days)\n",
            "     Predicted_100  Actual_100  % Difference(100 days)\n",
            "967      58.783368          71               17.206524\n",
            "527      61.704438          65                5.070096\n",
            "347      41.078554          50               17.842892\n",
            "351      20.025880          17               17.799293\n",
            "61        6.081116          10               39.188838\n",
            "\n",
            "Mean % Difference between Predicted and Actual Values of data bellow 100 days:\u001b[1;34m19.256%\u001b[0m\n"
          ]
        }
      ]
    },
    {
      "cell_type": "markdown",
      "source": [
        "Linear and reciprocal logaritmic model, shown higher score in the testing samples than the training samples. which is not a good signal ...."
      ],
      "metadata": {
        "id": "UY0q2dkVJwyr"
      }
    },
    {
      "cell_type": "markdown",
      "source": [
        "###cubic model"
      ],
      "metadata": {
        "id": "BUPNZ9LvNuVS"
      }
    },
    {
      "cell_type": "code",
      "source": [
        "#lineal regession gives a r2 too low and the function seems to fit to a log function\n",
        "from sklearn.preprocessing import PolynomialFeatures,FunctionTransformer\n",
        "\n",
        "from sklearn.pipeline import make_pipeline\n",
        "\n",
        "square = PolynomialFeatures(degree=3, include_bias=False)\n",
        "X_train_scale_cubic = square.fit_transform(X_train_num_scale)\n",
        "X_test_scale_cubic = square.fit_transform(X_test_num_scale)\n",
        "\n",
        "reg=linear_model.LinearRegression()\n",
        "reg.fit(X_train_scale_cubic,y_train)\n",
        "prediction_train=reg.predict(X_train_scale_cubic)\n",
        "prediction_test=reg.predict(X_test_scale_cubic)\n",
        "\n",
        "C0=reg.score(X_train_scale_cubic,y_train)\n",
        "C1=reg.score(X_test_scale_cubic,y_test)\n",
        "cubic_score=[C0,C1]\n",
        "\n",
        "#filtered data\n",
        "cubic_f=PolynomialFeatures(degree=3, include_bias=False)\n",
        "X_train_scale_cubic_100 = cubic_f.fit_transform(X_train_num_scale_100)\n",
        "X_test_scale_cubic_100 = cubic_f.fit_transform(X_test_num_scale_100)\n",
        "\n",
        "C0_100=reg.score(X_train_scale_cubic_100,y_train_100)\n",
        "C1_100=reg.score(X_test_scale_cubic_100,y_test_100)\n",
        "cubic_score_100=[C0_100,C1_100]\n",
        "Predict_cubic=reg.predict(X_test_scale_cubic)\n",
        "\n",
        "df_cubic=pd.DataFrame({'type_score':['Training','Testing'],'All data R^2':cubic_score,'Filtered data R^2':cubic_score_100}).set_index('type_score')\n",
        "print('values of scores for cubic model')\n",
        "print(df_cubic)"
      ],
      "metadata": {
        "colab": {
          "base_uri": "https://localhost:8080/"
        },
        "id": "iIGpRgCmc5r7",
        "outputId": "900f2782-443b-42bb-dee8-065c9479f6ae"
      },
      "execution_count": 216,
      "outputs": [
        {
          "output_type": "stream",
          "name": "stdout",
          "text": [
            "values of scores for cubic model\n",
            "            All data R^2  Filtered data R^2\n",
            "type_score                                 \n",
            "Training        0.931029          -0.600592\n",
            "Testing         0.794541          -1.001459\n"
          ]
        }
      ]
    },
    {
      "cell_type": "code",
      "source": [
        "df_cubic = pd.DataFrame({\"Predicted\": Predict_cubic, \"Actual\": y_test})\n",
        "df_cubic['% Difference(all data)'] = (abs(df_cubic['Predicted']-df_cubic['Actual'])/df_cubic['Actual'])*100\n",
        "\n",
        "print(\"Percentage Difference between Predicted and Actual Values (cubic model)\")\n",
        "print(df_cubic.head())\n",
        "print(f\"\\nMean % Difference between Predicted and Actual Values with all data:{BLUE}{str(round(df_cubic['% Difference(all data)'].mean(),3))} %{RESET}\")\n"
      ],
      "metadata": {
        "id": "DvshMrhKPaLq",
        "outputId": "08d07991-f3e1-4e11-b1ee-a83708ac21df",
        "colab": {
          "base_uri": "https://localhost:8080/"
        }
      },
      "execution_count": 217,
      "outputs": [
        {
          "output_type": "stream",
          "name": "stdout",
          "text": [
            "Percentage Difference between Predicted and Actual Values (cubic model)\n",
            "     Predicted  Actual  % Difference(all data)\n",
            "985  40.559368      32               26.748026\n",
            "945  34.653861      44               21.241224\n",
            "574  68.747848      55               24.996087\n",
            "824  65.421072      67                2.356610\n",
            "934  39.999831      33               21.211609\n",
            "\n",
            "Mean % Difference between Predicted and Actual Values with all data:\u001b[1;34m21.744 %\u001b[0m\n"
          ]
        }
      ]
    },
    {
      "cell_type": "markdown",
      "source": [
        "**Removing the data above 100 days improve the model consideraby  the scores in all 3 different models but the cubic polynomial one, which shows very negative values.**"
      ],
      "metadata": {
        "id": "5LmreZK7C-Z2"
      }
    },
    {
      "cell_type": "markdown",
      "source": [
        "## ***Adding nominal values***\n",
        "  The two best models were selected and added the nominal values, so in this way will be possible to asses their performance.\n",
        "  \n",
        "  * Cubic model with all data\n",
        "  * rec.log model with filtered data"
      ],
      "metadata": {
        "id": "bZn78vd6Mfl7"
      }
    },
    {
      "cell_type": "code",
      "source": [
        "\n",
        "X_train_ln_full = np.hstack([X_train_scale_cubic, X_train_nom])\n",
        "X_test_ln_full = np.hstack([X_test_scale_cubic, X_test_nom])\n",
        "#filtered data\n",
        "X_train_ln_full_100 = np.hstack([X_train_reclog_100, X_train_nom_100])\n",
        "X_test_ln_full_100 = np.hstack([X_test_reclog_100, X_test_nom_100])\n",
        "X_train_ln_full.shape"
      ],
      "metadata": {
        "colab": {
          "base_uri": "https://localhost:8080/"
        },
        "id": "4ViN_IuMtzZl",
        "outputId": "c6824592-4a58-4c28-8819-c6ed7955dcfb"
      },
      "execution_count": 218,
      "outputs": [
        {
          "output_type": "execute_result",
          "data": {
            "text/plain": [
              "(772, 170)"
            ]
          },
          "metadata": {},
          "execution_count": 218
        }
      ]
    },
    {
      "cell_type": "code",
      "source": [
        "RED = \"\\033[1;31m\"\n",
        "GREEN= \"\\033[1;32m\"\n",
        "RESET = \"\\033[0m\"\n",
        "\n",
        "ln_model= linear_model.RidgeCV()\n",
        "ln_model.fit(X_train_ln_full,y_train)\n",
        "train_predict_ln=ln_model.predict(X_train_ln_full)\n",
        "test_predict_ln=ln_model.predict(X_test_ln_full)\n",
        "print('Considering the nominal values for the two best models in their respective scenarios')\n",
        "print('Cubic model with all the data')\n",
        "print(f'For the train data,the R^2 for the {RED}cubic model{RESET} is : {round(ln_model.score(X_train_ln_full,y_train),3)}')\n",
        "print(f'For the test data,the R^2 for the {RED}cubic model{RESET}is : {round(ln_model.score(X_test_ln_full,y_test),3)}')\n",
        "\n",
        "#filtered model\n",
        "\n",
        "ln_model_100= linear_model.RidgeCV()\n",
        "ln_model_100.fit(X_train_ln_full_100,y_train_100)\n",
        "train_predict_ln_100=ln_model_100.predict(X_train_ln_full_100)\n",
        "test_predict_ln_100=ln_model_100.predict(X_test_ln_full_100)\n",
        "\n",
        "print('logaritmic model filtered (bellow 11 days)')\n",
        "print(f'For the train data,the R^2 for the {GREEN}reciprocal log model{RESET} is : {round(ln_model_100.score(X_train_ln_full_100,y_train_100),3)}')\n",
        "print(f'For the test data,the R^2 for the {GREEN}reciprocal log model{RESET} is : {round(ln_model_100.score(X_test_ln_full_100,y_test_100),3)}')"
      ],
      "metadata": {
        "colab": {
          "base_uri": "https://localhost:8080/"
        },
        "id": "vEiFu4AytuXq",
        "outputId": "d7317a80-b338-49f7-83af-da2ba38e5322"
      },
      "execution_count": 219,
      "outputs": [
        {
          "output_type": "stream",
          "name": "stdout",
          "text": [
            "Considering the nominal values for the two best models in their respective scenarios\n",
            "Cubic model with all the data\n",
            "For the train data,the R^2 for the \u001b[1;31mcubic model\u001b[0m is : 0.933\n",
            "For the test data,the R^2 for the \u001b[1;31mcubic model\u001b[0mis : 0.8\n",
            "logaritmic model filtered (bellow 11 days)\n",
            "For the train data,the R^2 for the \u001b[1;32mreciprocal log model\u001b[0m is : 0.851\n",
            "For the test data,the R^2 for the \u001b[1;32mreciprocal log model\u001b[0m is : 0.81\n"
          ]
        }
      ]
    },
    {
      "cell_type": "code",
      "source": [
        "df0 = pd.DataFrame({\"Predicted\": test_predict_ln, \"Actual\": y_test})\n",
        "df1 = pd.DataFrame({\"Predicted_100\": test_predict_ln_100, \"Actual_100\": y_test_100})\n",
        "df0['% Difference(all data)'] = (abs(df0['Predicted']-df0['Actual'])/df0['Actual'])*100\n",
        "df1['% Difference(100 days)'] = (abs(df1['Predicted_100']-df1['Actual_100'])/df1['Actual_100'])*100\n",
        "\n",
        "print(\"Percentage Difference between Predicted and Actual Values (cubic model)\")\n",
        "print(df0.head())\n",
        "print(\"Percentage Difference between Predicted and Actual Values (rec.log model with age bellow 100 days)\")\n",
        "print(df1.head())\n",
        "print(f\"\\nMean % Difference between Predicted and Actual Values with all data:{RED}{str(round(df0['% Difference(all data)'].mean(),3))} %{RESET}\")\n",
        "print(f\"\\nMean % Difference between Predicted and Actual Values of data bellow 100 days:{GREEN}{str(round(df1['% Difference(100 days)'].mean(),3))}%{RESET}\")"
      ],
      "metadata": {
        "colab": {
          "base_uri": "https://localhost:8080/"
        },
        "id": "pH4qm6qnHYoS",
        "outputId": "f561bb28-56a7-41e6-e75a-281952e58d75"
      },
      "execution_count": 220,
      "outputs": [
        {
          "output_type": "stream",
          "name": "stdout",
          "text": [
            "Percentage Difference between Predicted and Actual Values (cubic model)\n",
            "     Predicted  Actual  % Difference(all data)\n",
            "985  41.445004      32               29.515637\n",
            "945  36.815962      44               16.327360\n",
            "574  65.145256      55               18.445920\n",
            "824  64.217166      67                4.153483\n",
            "934  38.338727      33               16.177961\n",
            "Percentage Difference between Predicted and Actual Values (rec.log model with age bellow 100 days)\n",
            "     Predicted_100  Actual_100  % Difference(100 days)\n",
            "967      58.014126          71               18.289964\n",
            "527      65.308949          65                0.475306\n",
            "347      43.089657          50               13.820687\n",
            "351      20.019443          17               17.761429\n",
            "61        9.220618          10                7.793824\n",
            "\n",
            "Mean % Difference between Predicted and Actual Values with all data:\u001b[1;31m21.906 %\u001b[0m\n",
            "\n",
            "Mean % Difference between Predicted and Actual Values of data bellow 100 days:\u001b[1;32m19.552%\u001b[0m\n"
          ]
        }
      ]
    },
    {
      "cell_type": "markdown",
      "source": [
        "It is possible to observe that 2 of the 3 models improved narrowing the data to just 968 samples , being the cubic model negativly affected by this reduction on the data but clearly showing signs of overfitting in the predictive model as the difference between the R^2 for train and test data is above 5% difference in most of the cases, reaching in some of them 10%, however with the reciprocal logaritmic model, the reduction in the data gives us  slightly lower R^2 for the test data but a difference between the coeficient of determination in between 1 and 2%.\n"
      ],
      "metadata": {
        "id": "Yb4PRISKilil"
      }
    },
    {
      "cell_type": "markdown",
      "source": [
        "## applying PCA"
      ],
      "metadata": {
        "id": "XULkMmt1jgL2"
      }
    },
    {
      "cell_type": "code",
      "source": [
        "X_train_WS=X_train[['water','superplastic']]\n",
        "X_train_WS_scaled= scale_data.fit_transform(X_train_WS)\n",
        "X_test_WS=X_test[['water','superplastic']]\n",
        "\n",
        "X_test_WS_scaled= scale_data.fit_transform(X_test_WS)\n",
        "print(X_train_WS_scaled.shape,X_test_WS_scaled.shape)\n",
        "\n",
        "pca=PCA(n_components=1)\n",
        "X_train_pca=pca.fit_transform(X_train_WS_scaled)\n",
        "X_test_pca=pca.fit_transform(X_test_WS_scaled)\n",
        "\n",
        "# # train and test data without water and superplastic\n",
        "\n",
        "col=[a for a in concrete.columns]\n",
        "items_to_remove = ['strength','water','superplastic']\n",
        "col = [c for c in col if c not in items_to_remove]\n",
        "\n",
        "X_train_non_PCA=X_train[col]\n",
        "X_test_non_PCA=X_test[col]\n",
        "#scaled data\n",
        "X_train_non_PCA_scale=scale_data.fit_transform(X_train_non_PCA)\n",
        "X_test_non_PCA_scale=scale_data.fit_transform(X_test_non_PCA)\n",
        "\n",
        "X_train_PCA_scaled=np.hstack([X_train_pca,X_train_non_PCA_scale])\n",
        "X_test_PCA_scaled=np.hstack([X_test_pca,X_test_non_PCA_scale])\n"
      ],
      "metadata": {
        "colab": {
          "base_uri": "https://localhost:8080/"
        },
        "id": "klfV28nHjE1f",
        "outputId": "4fefc4c5-d5eb-4b00-8164-95548bb2fc2d"
      },
      "execution_count": 221,
      "outputs": [
        {
          "output_type": "stream",
          "name": "stdout",
          "text": [
            "(772, 2) (258, 2)\n"
          ]
        }
      ]
    },
    {
      "cell_type": "code",
      "source": [
        "X_train_reclog_PCA = addReciprocalLogFeatures(X_train_PCA_scaled)\n",
        "X_test_reclog_PCA = addReciprocalLogFeatures(X_test_PCA_scaled)\n",
        "\n",
        "reg=linear_model.LinearRegression()\n",
        "reg.fit(X_train_reclog_PCA,y_train)\n",
        "prediction_train=reg.predict(X_train_reclog_PCA)\n",
        "prediction_test=reg.predict(X_test_reclog_PCA)\n",
        "\n",
        "C0=reg.score(X_train_reclog_PCA,y_train)\n",
        "C1=reg.score(X_test_reclog_PCA,y_test)\n",
        "PCA_score=[C0,C1]\n",
        "df_PCA=pd.DataFrame({'type_score':['Training','Testing'],'All data R^2':PCA_score}).set_index('type_score')\n",
        "print('values of scores for PCA model')\n",
        "print(df_PCA)\n"
      ],
      "metadata": {
        "colab": {
          "base_uri": "https://localhost:8080/"
        },
        "id": "DGhMbiEapygl",
        "outputId": "93033448-e6b8-445e-fb14-f3ff2fd6ce63"
      },
      "execution_count": 222,
      "outputs": [
        {
          "output_type": "stream",
          "name": "stdout",
          "text": [
            "values of scores for PCA model\n",
            "            All data R^2\n",
            "type_score              \n",
            "Training        0.780772\n",
            "Testing         0.746873\n"
          ]
        }
      ]
    },
    {
      "cell_type": "markdown",
      "source": [
        "In this case the R^2 for the train data was reduced but the R^2 for the test data increased in relation with the previous model.\n",
        " So, now left to add the nominal variabes to verify the score with this model."
      ],
      "metadata": {
        "id": "6AnuBmqcqQBi"
      }
    },
    {
      "cell_type": "code",
      "source": [
        "\n",
        "X_train_ln_full = np.hstack([X_train_reclog_PCA, X_train_nom])\n",
        "X_test_ln_full = np.hstack([X_test_reclog_PCA, X_test_nom])\n"
      ],
      "metadata": {
        "id": "C8q4x755qpEP"
      },
      "execution_count": 223,
      "outputs": []
    },
    {
      "cell_type": "code",
      "source": [
        "ln_model= linear_model.RidgeCV()\n",
        "ln_model.fit(X_train_ln_full,y_train)\n",
        "train_predict_pca=ln_model.predict(X_train_ln_full)\n",
        "test_predict_pca=ln_model.predict(X_test_ln_full)\n",
        "print(ln_model.score(X_train_ln_full,y_train))\n",
        "print(ln_model.score(X_test_ln_full,y_test))"
      ],
      "metadata": {
        "colab": {
          "base_uri": "https://localhost:8080/"
        },
        "id": "fdz4SZnjq1QE",
        "outputId": "298a2a96-f69e-43b4-977f-c77a1047bfcd"
      },
      "execution_count": 224,
      "outputs": [
        {
          "output_type": "stream",
          "name": "stdout",
          "text": [
            "0.7867237244691684\n",
            "0.750037615052764\n"
          ]
        }
      ]
    },
    {
      "cell_type": "code",
      "source": [
        "df = pd.DataFrame({\"Predicted\": test_predict_pca, \"Actual\": y_test})\n",
        "df['% Difference'] = (abs(df['Predicted']-df['Actual'])/df['Actual'])*100\n",
        "\n",
        "print(\"Percentage Difference between Predicted and Actual Values (cubic model)\")\n",
        "print(df.head())\n",
        "print(\"\\nMean % Difference between Predicted and Actual Values: \" + str(round(df['% Difference'].mean(),3)) +\"%\")"
      ],
      "metadata": {
        "colab": {
          "base_uri": "https://localhost:8080/"
        },
        "id": "gkGvGpaGGYn5",
        "outputId": "fb193159-a41e-4ca0-fab5-7cd715d33638"
      },
      "execution_count": 225,
      "outputs": [
        {
          "output_type": "stream",
          "name": "stdout",
          "text": [
            "Percentage Difference between Predicted and Actual Values (cubic model)\n",
            "     Predicted  Actual  % Difference\n",
            "985  43.649422      32     36.404444\n",
            "945  48.397638      44      9.994632\n",
            "574  63.459292      55     15.380531\n",
            "824  48.980279      67     26.895105\n",
            "934  32.445589      33      1.680034\n",
            "\n",
            "Mean % Difference between Predicted and Actual Values: 25.516%\n"
          ]
        }
      ]
    }
  ]
}