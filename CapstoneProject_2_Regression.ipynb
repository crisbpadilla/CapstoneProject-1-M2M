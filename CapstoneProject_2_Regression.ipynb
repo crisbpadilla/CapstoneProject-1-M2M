{
  "nbformat": 4,
  "nbformat_minor": 0,
  "metadata": {
    "colab": {
      "provenance": [],
      "authorship_tag": "ABX9TyNYstCoNM6Syl+nQeZ4WM3T",
      "include_colab_link": true
    },
    "kernelspec": {
      "name": "python3",
      "display_name": "Python 3"
    },
    "language_info": {
      "name": "python"
    }
  },
  "cells": [
    {
      "cell_type": "markdown",
      "metadata": {
        "id": "view-in-github",
        "colab_type": "text"
      },
      "source": [
        "<a href=\"https://colab.research.google.com/github/crisbpadilla/CapstoneProject-1-M2M/blob/main/CapstoneProject_2_Regression.ipynb\" target=\"_parent\"><img src=\"https://colab.research.google.com/assets/colab-badge.svg\" alt=\"Open In Colab\"/></a>"
      ]
    },
    {
      "cell_type": "code",
      "execution_count": 10,
      "metadata": {
        "id": "lcN03oEREtln"
      },
      "outputs": [],
      "source": [
        "import pandas as pd\n",
        "import numpy as np\n",
        "\n",
        "concrete=pd.read_csv('concrete.csv')\n"
      ]
    },
    {
      "cell_type": "markdown",
      "source": [
        "# Preprocessing data"
      ],
      "metadata": {
        "id": "nFzWhYPF_cQr"
      }
    },
    {
      "cell_type": "code",
      "source": [
        "concrete_pluscat=concrete.copy()\n",
        "# cuales son los escenarios? 9 (matriz 3x3) , la mitad menos 1 ~ 3\n",
        "#a) slag-ash b)slag-superplastic c)ash-superplastic\n",
        "\n",
        "concrete_pluscat['type_mix'] = 'all mix'\n",
        "concrete_pluscat.loc[\n",
        "    (concrete_pluscat['slag']>0) & (concrete_pluscat[['superplastic','ash']] == 0).all(axis=1),\n",
        "    'type_mix',\n",
        "] = 'slag'\n",
        "concrete_pluscat.loc[\n",
        "    (concrete_pluscat['ash']>0) & (concrete_pluscat[['superplastic','slag']] == 0).all(axis=1),\n",
        "    'type_mix',\n",
        "] = 'ash'\n",
        "concrete_pluscat.loc[\n",
        "    (concrete_pluscat['superplastic']>0) & (concrete_pluscat[['slag','ash']] == 0).all(axis=1),\n",
        "    'type_mix',\n",
        "] = 'superplastic'\n",
        "\n",
        "concrete_pluscat.loc[\n",
        "    (concrete_pluscat[['slag', 'ash']].gt(0).all(axis=1)) & (concrete_pluscat['superplastic'] == 0),\n",
        "    'type_mix',\n",
        "] = 'slag-ash'\n",
        "\n",
        "concrete_pluscat.loc[\n",
        "    (concrete_pluscat[['slag', 'superplastic']].gt(0).all(axis=1)) & (concrete_pluscat['ash'] == 0),\n",
        "    'type_mix',\n",
        "] = 'slag-superplastic'\n",
        "\n",
        "concrete_pluscat.loc[\n",
        "    (concrete_pluscat[['ash', 'superplastic']].gt(0).all(axis=1)) & (concrete_pluscat['slag'] == 0),\n",
        "    'type_mix',\n",
        "] = 'ash-superplastic'\n",
        "concrete_pluscat.loc[\n",
        "    (concrete_pluscat['cement']>0) & (concrete_pluscat[['superplastic','slag','ash']] == 0).all(axis=1),\n",
        "    'type_mix',\n",
        "] = 'just cement'"
      ],
      "metadata": {
        "id": "xa_Hso0v3BDC"
      },
      "execution_count": 11,
      "outputs": []
    },
    {
      "cell_type": "code",
      "source": [
        "# Create the dataframe with all the numerical and categorical values\n",
        "concrete_data=pd.get_dummies(data=concrete_pluscat,columns=['type_mix'],drop_first=True).astype(int)\n"
      ],
      "metadata": {
        "id": "v14VALEA5JfO"
      },
      "execution_count": 12,
      "outputs": []
    },
    {
      "cell_type": "code",
      "source": [
        "from sklearn.linear_model import LinearRegression\n",
        "from sklearn.model_selection import train_test_split\n",
        "\n",
        "X=concrete_data.drop(columns=['strength'])\n",
        "y=concrete_data['strength']\n",
        "\n",
        "X_train,X_test,y_train,y_test=train_test_split(X,y,test_size=0.25)\n"
      ],
      "metadata": {
        "id": "SE0jo4DrHnQN"
      },
      "execution_count": 13,
      "outputs": []
    },
    {
      "cell_type": "code",
      "source": [
        "# Seprating my numeric variables and nominal/categorical values\n",
        "num_col=[a for a in concrete.columns]\n",
        "num_col.remove('strength')\n",
        "#numerical values\n",
        "X_train_num=X_train[num_col]\n",
        "X_test_num=X_test[num_col]\n",
        "#nominal values\n",
        "X_train_nom=X_train.drop(columns=num_col)\n",
        "X_test_nom=X_test.drop(columns=num_col)"
      ],
      "metadata": {
        "id": "8n7WDCMKH7GL"
      },
      "execution_count": 14,
      "outputs": []
    },
    {
      "cell_type": "markdown",
      "source": [
        "##Scalling the data"
      ],
      "metadata": {
        "id": "6mYC0ktRc6dp"
      }
    },
    {
      "cell_type": "code",
      "source": [
        "from sklearn.decomposition import PCA\n",
        "from sklearn.preprocessing import StandardScaler, MinMaxScaler\n",
        "\n",
        "scale_data=StandardScaler()\n",
        "print(pd.DataFrame(scale_data.fit_transform(X_train_num)))\n",
        "\n",
        "X_train_num_scale=scale_data.fit_transform(X_train_num)\n",
        "X_test_num_scale=scale_data.fit_transform(X_test_num)\n"
      ],
      "metadata": {
        "colab": {
          "base_uri": "https://localhost:8080/"
        },
        "id": "PVGDKx4jp517",
        "outputId": "0a3333f4-6c8f-48c0-868c-d2d9ef2bc187"
      },
      "execution_count": 37,
      "outputs": [
        {
          "output_type": "stream",
          "name": "stdout",
          "text": [
            "            0         1         2         3         4         5         6  \\\n",
            "0   -0.923421  0.562688 -0.847935  1.009923 -0.998089 -0.189745  0.352652   \n",
            "1    1.592888 -0.566329  0.375830 -0.924602  0.867588 -0.088073 -0.762182   \n",
            "2   -0.234545 -0.842823 -0.847935  0.490904 -0.998089 -1.079369  2.189595   \n",
            "3   -1.095639  0.631812  1.196837 -0.311216  0.358767  0.394865 -0.331451   \n",
            "4   -0.071894 -0.842823  0.530737  0.774006  0.697981 -0.545594 -0.128753   \n",
            "..        ...       ...       ...       ...       ...       ...       ...   \n",
            "767 -1.086072 -0.842823  1.677049 -0.264032 -0.319661  1.068438  0.099281   \n",
            "768 -0.263248 -0.842823  0.670154 -1.679538  1.376409  0.166105  1.480155   \n",
            "769  1.592888 -0.566329  0.375830 -0.924602  0.867588 -0.088073 -0.762182   \n",
            "770  1.047528  1.334568 -0.847935 -1.726722  2.733265 -0.380379 -0.217433   \n",
            "771  1.391966  0.378359 -0.847935 -1.349253  1.715623 -1.549599  1.454818   \n",
            "\n",
            "            7  \n",
            "0   -0.681777  \n",
            "1   -0.615251  \n",
            "2   -0.615251  \n",
            "3    0.199684  \n",
            "4   -0.265993  \n",
            "..        ...  \n",
            "767 -0.498832  \n",
            "768  0.199684  \n",
            "769  0.199684  \n",
            "770  0.199684  \n",
            "771 -0.265993  \n",
            "\n",
            "[772 rows x 8 columns]\n"
          ]
        }
      ]
    },
    {
      "cell_type": "code",
      "source": [
        "#lineal regession gives a r2 too low and the function seems to fit to a log function\n",
        "from sklearn.preprocessing import PolynomialFeatures,FunctionTransformer\n",
        "from sklearn import linear_model\n",
        "from sklearn.pipeline import make_pipeline\n",
        "\n",
        "cuadratic = PolynomialFeatures(degree=3, include_bias=False)\n",
        "X_train_pca_cuadratic = cuadratic.fit_transform(X_train_num_scale)\n",
        "X_test_pca_cuadratic = cuadratic.fit_transform(X_test_num_scale)\n",
        "\n",
        "reg=linear_model.LinearRegression()\n",
        "reg.fit(X_train_pca_cuadratic,y_train)\n",
        "prediction_train=reg.predict(X_train_pca_cuadratic)\n",
        "print(reg.score(X_train_pca_cuadratic,y_train))\n",
        "print(reg.score(X_test_pca_cuadratic,y_test))\n"
      ],
      "metadata": {
        "colab": {
          "base_uri": "https://localhost:8080/"
        },
        "id": "iIGpRgCmc5r7",
        "outputId": "c363582e-613b-4aeb-d745-f812897d9b4a"
      },
      "execution_count": 55,
      "outputs": [
        {
          "output_type": "stream",
          "name": "stdout",
          "text": [
            "0.9360852948021252\n",
            "0.75441258214008\n"
          ]
        }
      ]
    },
    {
      "cell_type": "code",
      "source": [
        "from bokeh.plotting import figure, output_notebook, show, output_notebook\n",
        "from bokeh.models import ColumnDataSource\n",
        "\n",
        "output_notebook()\n",
        "\n",
        "csource=ColumnDataSource(data={'x':X_train_pca,'y':y_train,'y_t':prediction_train})\n",
        "c=figure(title='test graph')\n",
        "c.scatter(x='x',y='y',source=csource)\n",
        "c.scatter(x='x',y='y_t',source=csource,color='red')\n",
        "show(c)"
      ],
      "metadata": {
        "colab": {
          "base_uri": "https://localhost:8080/",
          "height": 617
        },
        "id": "AOsgDKlNFLfK",
        "outputId": "91fa0127-eb8f-42cd-918b-a68489265265"
      },
      "execution_count": 62,
      "outputs": [
        {
          "output_type": "display_data",
          "data": {
            "application/javascript": [
              "'use strict';\n",
              "(function(root) {\n",
              "  function now() {\n",
              "    return new Date();\n",
              "  }\n",
              "\n",
              "  const force = true;\n",
              "\n",
              "  if (typeof root._bokeh_onload_callbacks === \"undefined\" || force === true) {\n",
              "    root._bokeh_onload_callbacks = [];\n",
              "    root._bokeh_is_loading = undefined;\n",
              "  }\n",
              "\n",
              "const JS_MIME_TYPE = 'application/javascript';\n",
              "  const HTML_MIME_TYPE = 'text/html';\n",
              "  const EXEC_MIME_TYPE = 'application/vnd.bokehjs_exec.v0+json';\n",
              "  const CLASS_NAME = 'output_bokeh rendered_html';\n",
              "\n",
              "  /**\n",
              "   * Render data to the DOM node\n",
              "   */\n",
              "  function render(props, node) {\n",
              "    const script = document.createElement(\"script\");\n",
              "    node.appendChild(script);\n",
              "  }\n",
              "\n",
              "  /**\n",
              "   * Handle when an output is cleared or removed\n",
              "   */\n",
              "  function handleClearOutput(event, handle) {\n",
              "    function drop(id) {\n",
              "      const view = Bokeh.index.get_by_id(id)\n",
              "      if (view != null) {\n",
              "        view.model.document.clear()\n",
              "        Bokeh.index.delete(view)\n",
              "      }\n",
              "    }\n",
              "\n",
              "    const cell = handle.cell;\n",
              "\n",
              "    const id = cell.output_area._bokeh_element_id;\n",
              "    const server_id = cell.output_area._bokeh_server_id;\n",
              "\n",
              "    // Clean up Bokeh references\n",
              "    if (id != null) {\n",
              "      drop(id)\n",
              "    }\n",
              "\n",
              "    if (server_id !== undefined) {\n",
              "      // Clean up Bokeh references\n",
              "      const cmd_clean = \"from bokeh.io.state import curstate; print(curstate().uuid_to_server['\" + server_id + \"'].get_sessions()[0].document.roots[0]._id)\";\n",
              "      cell.notebook.kernel.execute(cmd_clean, {\n",
              "        iopub: {\n",
              "          output: function(msg) {\n",
              "            const id = msg.content.text.trim()\n",
              "            drop(id)\n",
              "          }\n",
              "        }\n",
              "      });\n",
              "      // Destroy server and session\n",
              "      const cmd_destroy = \"import bokeh.io.notebook as ion; ion.destroy_server('\" + server_id + \"')\";\n",
              "      cell.notebook.kernel.execute(cmd_destroy);\n",
              "    }\n",
              "  }\n",
              "\n",
              "  /**\n",
              "   * Handle when a new output is added\n",
              "   */\n",
              "  function handleAddOutput(event, handle) {\n",
              "    const output_area = handle.output_area;\n",
              "    const output = handle.output;\n",
              "\n",
              "    // limit handleAddOutput to display_data with EXEC_MIME_TYPE content only\n",
              "    if ((output.output_type != \"display_data\") || (!Object.prototype.hasOwnProperty.call(output.data, EXEC_MIME_TYPE))) {\n",
              "      return\n",
              "    }\n",
              "\n",
              "    const toinsert = output_area.element.find(\".\" + CLASS_NAME.split(' ')[0]);\n",
              "\n",
              "    if (output.metadata[EXEC_MIME_TYPE][\"id\"] !== undefined) {\n",
              "      toinsert[toinsert.length - 1].firstChild.textContent = output.data[JS_MIME_TYPE];\n",
              "      // store reference to embed id on output_area\n",
              "      output_area._bokeh_element_id = output.metadata[EXEC_MIME_TYPE][\"id\"];\n",
              "    }\n",
              "    if (output.metadata[EXEC_MIME_TYPE][\"server_id\"] !== undefined) {\n",
              "      const bk_div = document.createElement(\"div\");\n",
              "      bk_div.innerHTML = output.data[HTML_MIME_TYPE];\n",
              "      const script_attrs = bk_div.children[0].attributes;\n",
              "      for (let i = 0; i < script_attrs.length; i++) {\n",
              "        toinsert[toinsert.length - 1].firstChild.setAttribute(script_attrs[i].name, script_attrs[i].value);\n",
              "        toinsert[toinsert.length - 1].firstChild.textContent = bk_div.children[0].textContent\n",
              "      }\n",
              "      // store reference to server id on output_area\n",
              "      output_area._bokeh_server_id = output.metadata[EXEC_MIME_TYPE][\"server_id\"];\n",
              "    }\n",
              "  }\n",
              "\n",
              "  function register_renderer(events, OutputArea) {\n",
              "\n",
              "    function append_mime(data, metadata, element) {\n",
              "      // create a DOM node to render to\n",
              "      const toinsert = this.create_output_subarea(\n",
              "        metadata,\n",
              "        CLASS_NAME,\n",
              "        EXEC_MIME_TYPE\n",
              "      );\n",
              "      this.keyboard_manager.register_events(toinsert);\n",
              "      // Render to node\n",
              "      const props = {data: data, metadata: metadata[EXEC_MIME_TYPE]};\n",
              "      render(props, toinsert[toinsert.length - 1]);\n",
              "      element.append(toinsert);\n",
              "      return toinsert\n",
              "    }\n",
              "\n",
              "    /* Handle when an output is cleared or removed */\n",
              "    events.on('clear_output.CodeCell', handleClearOutput);\n",
              "    events.on('delete.Cell', handleClearOutput);\n",
              "\n",
              "    /* Handle when a new output is added */\n",
              "    events.on('output_added.OutputArea', handleAddOutput);\n",
              "\n",
              "    /**\n",
              "     * Register the mime type and append_mime function with output_area\n",
              "     */\n",
              "    OutputArea.prototype.register_mime_type(EXEC_MIME_TYPE, append_mime, {\n",
              "      /* Is output safe? */\n",
              "      safe: true,\n",
              "      /* Index of renderer in `output_area.display_order` */\n",
              "      index: 0\n",
              "    });\n",
              "  }\n",
              "\n",
              "  // register the mime type if in Jupyter Notebook environment and previously unregistered\n",
              "  if (root.Jupyter !== undefined) {\n",
              "    const events = require('base/js/events');\n",
              "    const OutputArea = require('notebook/js/outputarea').OutputArea;\n",
              "\n",
              "    if (OutputArea.prototype.mime_types().indexOf(EXEC_MIME_TYPE) == -1) {\n",
              "      register_renderer(events, OutputArea);\n",
              "    }\n",
              "  }\n",
              "  if (typeof (root._bokeh_timeout) === \"undefined\" || force === true) {\n",
              "    root._bokeh_timeout = Date.now() + 5000;\n",
              "    root._bokeh_failed_load = false;\n",
              "  }\n",
              "\n",
              "  const NB_LOAD_WARNING = {'data': {'text/html':\n",
              "     \"<div style='background-color: #fdd'>\\n\"+\n",
              "     \"<p>\\n\"+\n",
              "     \"BokehJS does not appear to have successfully loaded. If loading BokehJS from CDN, this \\n\"+\n",
              "     \"may be due to a slow or bad network connection. Possible fixes:\\n\"+\n",
              "     \"</p>\\n\"+\n",
              "     \"<ul>\\n\"+\n",
              "     \"<li>re-rerun `output_notebook()` to attempt to load from CDN again, or</li>\\n\"+\n",
              "     \"<li>use INLINE resources instead, as so:</li>\\n\"+\n",
              "     \"</ul>\\n\"+\n",
              "     \"<code>\\n\"+\n",
              "     \"from bokeh.resources import INLINE\\n\"+\n",
              "     \"output_notebook(resources=INLINE)\\n\"+\n",
              "     \"</code>\\n\"+\n",
              "     \"</div>\"}};\n",
              "\n",
              "  function display_loaded(error = null) {\n",
              "    const el = document.getElementById(null);\n",
              "    if (el != null) {\n",
              "      const html = (() => {\n",
              "        if (typeof root.Bokeh === \"undefined\") {\n",
              "          if (error == null) {\n",
              "            return \"BokehJS is loading ...\";\n",
              "          } else {\n",
              "            return \"BokehJS failed to load.\";\n",
              "          }\n",
              "        } else {\n",
              "          const prefix = `BokehJS ${root.Bokeh.version}`;\n",
              "          if (error == null) {\n",
              "            return `${prefix} successfully loaded.`;\n",
              "          } else {\n",
              "            return `${prefix} <b>encountered errors</b> while loading and may not function as expected.`;\n",
              "          }\n",
              "        }\n",
              "      })();\n",
              "      el.innerHTML = html;\n",
              "\n",
              "      if (error != null) {\n",
              "        const wrapper = document.createElement(\"div\");\n",
              "        wrapper.style.overflow = \"auto\";\n",
              "        wrapper.style.height = \"5em\";\n",
              "        wrapper.style.resize = \"vertical\";\n",
              "        const content = document.createElement(\"div\");\n",
              "        content.style.fontFamily = \"monospace\";\n",
              "        content.style.whiteSpace = \"pre-wrap\";\n",
              "        content.style.backgroundColor = \"rgb(255, 221, 221)\";\n",
              "        content.textContent = error.stack ?? error.toString();\n",
              "        wrapper.append(content);\n",
              "        el.append(wrapper);\n",
              "      }\n",
              "    } else if (Date.now() < root._bokeh_timeout) {\n",
              "      setTimeout(() => display_loaded(error), 100);\n",
              "    }\n",
              "  }\n",
              "\n",
              "  function run_callbacks() {\n",
              "    try {\n",
              "      root._bokeh_onload_callbacks.forEach(function(callback) {\n",
              "        if (callback != null)\n",
              "          callback();\n",
              "      });\n",
              "    } finally {\n",
              "      delete root._bokeh_onload_callbacks\n",
              "    }\n",
              "    console.debug(\"Bokeh: all callbacks have finished\");\n",
              "  }\n",
              "\n",
              "  function load_libs(css_urls, js_urls, callback) {\n",
              "    if (css_urls == null) css_urls = [];\n",
              "    if (js_urls == null) js_urls = [];\n",
              "\n",
              "    root._bokeh_onload_callbacks.push(callback);\n",
              "    if (root._bokeh_is_loading > 0) {\n",
              "      console.debug(\"Bokeh: BokehJS is being loaded, scheduling callback at\", now());\n",
              "      return null;\n",
              "    }\n",
              "    if (js_urls == null || js_urls.length === 0) {\n",
              "      run_callbacks();\n",
              "      return null;\n",
              "    }\n",
              "    console.debug(\"Bokeh: BokehJS not loaded, scheduling load and callback at\", now());\n",
              "    root._bokeh_is_loading = css_urls.length + js_urls.length;\n",
              "\n",
              "    function on_load() {\n",
              "      root._bokeh_is_loading--;\n",
              "      if (root._bokeh_is_loading === 0) {\n",
              "        console.debug(\"Bokeh: all BokehJS libraries/stylesheets loaded\");\n",
              "        run_callbacks()\n",
              "      }\n",
              "    }\n",
              "\n",
              "    function on_error(url) {\n",
              "      console.error(\"failed to load \" + url);\n",
              "    }\n",
              "\n",
              "    for (let i = 0; i < css_urls.length; i++) {\n",
              "      const url = css_urls[i];\n",
              "      const element = document.createElement(\"link\");\n",
              "      element.onload = on_load;\n",
              "      element.onerror = on_error.bind(null, url);\n",
              "      element.rel = \"stylesheet\";\n",
              "      element.type = \"text/css\";\n",
              "      element.href = url;\n",
              "      console.debug(\"Bokeh: injecting link tag for BokehJS stylesheet: \", url);\n",
              "      document.body.appendChild(element);\n",
              "    }\n",
              "\n",
              "    for (let i = 0; i < js_urls.length; i++) {\n",
              "      const url = js_urls[i];\n",
              "      const element = document.createElement('script');\n",
              "      element.onload = on_load;\n",
              "      element.onerror = on_error.bind(null, url);\n",
              "      element.async = false;\n",
              "      element.src = url;\n",
              "      console.debug(\"Bokeh: injecting script tag for BokehJS library: \", url);\n",
              "      document.head.appendChild(element);\n",
              "    }\n",
              "  };\n",
              "\n",
              "  function inject_raw_css(css) {\n",
              "    const element = document.createElement(\"style\");\n",
              "    element.appendChild(document.createTextNode(css));\n",
              "    document.body.appendChild(element);\n",
              "  }\n",
              "\n",
              "  const js_urls = [\"https://cdn.bokeh.org/bokeh/release/bokeh-3.6.2.min.js\", \"https://cdn.bokeh.org/bokeh/release/bokeh-gl-3.6.2.min.js\", \"https://cdn.bokeh.org/bokeh/release/bokeh-widgets-3.6.2.min.js\", \"https://cdn.bokeh.org/bokeh/release/bokeh-tables-3.6.2.min.js\", \"https://cdn.bokeh.org/bokeh/release/bokeh-mathjax-3.6.2.min.js\"];\n",
              "  const css_urls = [];\n",
              "\n",
              "  const inline_js = [    function(Bokeh) {\n",
              "      Bokeh.set_log_level(\"info\");\n",
              "    },\n",
              "function(Bokeh) {\n",
              "    }\n",
              "  ];\n",
              "\n",
              "  function run_inline_js() {\n",
              "    if (root.Bokeh !== undefined || force === true) {\n",
              "      try {\n",
              "            for (let i = 0; i < inline_js.length; i++) {\n",
              "      inline_js[i].call(root, root.Bokeh);\n",
              "    }\n",
              "\n",
              "      } catch (error) {throw error;\n",
              "      }} else if (Date.now() < root._bokeh_timeout) {\n",
              "      setTimeout(run_inline_js, 100);\n",
              "    } else if (!root._bokeh_failed_load) {\n",
              "      console.log(\"Bokeh: BokehJS failed to load within specified timeout.\");\n",
              "      root._bokeh_failed_load = true;\n",
              "    } else if (force !== true) {\n",
              "      const cell = $(document.getElementById(null)).parents('.cell').data().cell;\n",
              "      cell.output_area.append_execute_result(NB_LOAD_WARNING)\n",
              "    }\n",
              "  }\n",
              "\n",
              "  if (root._bokeh_is_loading === 0) {\n",
              "    console.debug(\"Bokeh: BokehJS loaded, going straight to plotting\");\n",
              "    run_inline_js();\n",
              "  } else {\n",
              "    load_libs(css_urls, js_urls, function() {\n",
              "      console.debug(\"Bokeh: BokehJS plotting callback run at\", now());\n",
              "      run_inline_js();\n",
              "    });\n",
              "  }\n",
              "}(window));"
            ],
            "application/vnd.bokehjs_load.v0+json": "'use strict';\n(function(root) {\n  function now() {\n    return new Date();\n  }\n\n  const force = true;\n\n  if (typeof root._bokeh_onload_callbacks === \"undefined\" || force === true) {\n    root._bokeh_onload_callbacks = [];\n    root._bokeh_is_loading = undefined;\n  }\n\n\n  if (typeof (root._bokeh_timeout) === \"undefined\" || force === true) {\n    root._bokeh_timeout = Date.now() + 5000;\n    root._bokeh_failed_load = false;\n  }\n\n  const NB_LOAD_WARNING = {'data': {'text/html':\n     \"<div style='background-color: #fdd'>\\n\"+\n     \"<p>\\n\"+\n     \"BokehJS does not appear to have successfully loaded. If loading BokehJS from CDN, this \\n\"+\n     \"may be due to a slow or bad network connection. Possible fixes:\\n\"+\n     \"</p>\\n\"+\n     \"<ul>\\n\"+\n     \"<li>re-rerun `output_notebook()` to attempt to load from CDN again, or</li>\\n\"+\n     \"<li>use INLINE resources instead, as so:</li>\\n\"+\n     \"</ul>\\n\"+\n     \"<code>\\n\"+\n     \"from bokeh.resources import INLINE\\n\"+\n     \"output_notebook(resources=INLINE)\\n\"+\n     \"</code>\\n\"+\n     \"</div>\"}};\n\n  function display_loaded(error = null) {\n    const el = document.getElementById(null);\n    if (el != null) {\n      const html = (() => {\n        if (typeof root.Bokeh === \"undefined\") {\n          if (error == null) {\n            return \"BokehJS is loading ...\";\n          } else {\n            return \"BokehJS failed to load.\";\n          }\n        } else {\n          const prefix = `BokehJS ${root.Bokeh.version}`;\n          if (error == null) {\n            return `${prefix} successfully loaded.`;\n          } else {\n            return `${prefix} <b>encountered errors</b> while loading and may not function as expected.`;\n          }\n        }\n      })();\n      el.innerHTML = html;\n\n      if (error != null) {\n        const wrapper = document.createElement(\"div\");\n        wrapper.style.overflow = \"auto\";\n        wrapper.style.height = \"5em\";\n        wrapper.style.resize = \"vertical\";\n        const content = document.createElement(\"div\");\n        content.style.fontFamily = \"monospace\";\n        content.style.whiteSpace = \"pre-wrap\";\n        content.style.backgroundColor = \"rgb(255, 221, 221)\";\n        content.textContent = error.stack ?? error.toString();\n        wrapper.append(content);\n        el.append(wrapper);\n      }\n    } else if (Date.now() < root._bokeh_timeout) {\n      setTimeout(() => display_loaded(error), 100);\n    }\n  }\n\n  function run_callbacks() {\n    try {\n      root._bokeh_onload_callbacks.forEach(function(callback) {\n        if (callback != null)\n          callback();\n      });\n    } finally {\n      delete root._bokeh_onload_callbacks\n    }\n    console.debug(\"Bokeh: all callbacks have finished\");\n  }\n\n  function load_libs(css_urls, js_urls, callback) {\n    if (css_urls == null) css_urls = [];\n    if (js_urls == null) js_urls = [];\n\n    root._bokeh_onload_callbacks.push(callback);\n    if (root._bokeh_is_loading > 0) {\n      console.debug(\"Bokeh: BokehJS is being loaded, scheduling callback at\", now());\n      return null;\n    }\n    if (js_urls == null || js_urls.length === 0) {\n      run_callbacks();\n      return null;\n    }\n    console.debug(\"Bokeh: BokehJS not loaded, scheduling load and callback at\", now());\n    root._bokeh_is_loading = css_urls.length + js_urls.length;\n\n    function on_load() {\n      root._bokeh_is_loading--;\n      if (root._bokeh_is_loading === 0) {\n        console.debug(\"Bokeh: all BokehJS libraries/stylesheets loaded\");\n        run_callbacks()\n      }\n    }\n\n    function on_error(url) {\n      console.error(\"failed to load \" + url);\n    }\n\n    for (let i = 0; i < css_urls.length; i++) {\n      const url = css_urls[i];\n      const element = document.createElement(\"link\");\n      element.onload = on_load;\n      element.onerror = on_error.bind(null, url);\n      element.rel = \"stylesheet\";\n      element.type = \"text/css\";\n      element.href = url;\n      console.debug(\"Bokeh: injecting link tag for BokehJS stylesheet: \", url);\n      document.body.appendChild(element);\n    }\n\n    for (let i = 0; i < js_urls.length; i++) {\n      const url = js_urls[i];\n      const element = document.createElement('script');\n      element.onload = on_load;\n      element.onerror = on_error.bind(null, url);\n      element.async = false;\n      element.src = url;\n      console.debug(\"Bokeh: injecting script tag for BokehJS library: \", url);\n      document.head.appendChild(element);\n    }\n  };\n\n  function inject_raw_css(css) {\n    const element = document.createElement(\"style\");\n    element.appendChild(document.createTextNode(css));\n    document.body.appendChild(element);\n  }\n\n  const js_urls = [\"https://cdn.bokeh.org/bokeh/release/bokeh-3.6.2.min.js\", \"https://cdn.bokeh.org/bokeh/release/bokeh-gl-3.6.2.min.js\", \"https://cdn.bokeh.org/bokeh/release/bokeh-widgets-3.6.2.min.js\", \"https://cdn.bokeh.org/bokeh/release/bokeh-tables-3.6.2.min.js\", \"https://cdn.bokeh.org/bokeh/release/bokeh-mathjax-3.6.2.min.js\"];\n  const css_urls = [];\n\n  const inline_js = [    function(Bokeh) {\n      Bokeh.set_log_level(\"info\");\n    },\nfunction(Bokeh) {\n    }\n  ];\n\n  function run_inline_js() {\n    if (root.Bokeh !== undefined || force === true) {\n      try {\n            for (let i = 0; i < inline_js.length; i++) {\n      inline_js[i].call(root, root.Bokeh);\n    }\n\n      } catch (error) {throw error;\n      }} else if (Date.now() < root._bokeh_timeout) {\n      setTimeout(run_inline_js, 100);\n    } else if (!root._bokeh_failed_load) {\n      console.log(\"Bokeh: BokehJS failed to load within specified timeout.\");\n      root._bokeh_failed_load = true;\n    } else if (force !== true) {\n      const cell = $(document.getElementById(null)).parents('.cell').data().cell;\n      cell.output_area.append_execute_result(NB_LOAD_WARNING)\n    }\n  }\n\n  if (root._bokeh_is_loading === 0) {\n    console.debug(\"Bokeh: BokehJS loaded, going straight to plotting\");\n    run_inline_js();\n  } else {\n    load_libs(css_urls, js_urls, function() {\n      console.debug(\"Bokeh: BokehJS plotting callback run at\", now());\n      run_inline_js();\n    });\n  }\n}(window));"
          },
          "metadata": {}
        },
        {
          "output_type": "display_data",
          "data": {
            "text/html": [
              "\n",
              "  <div id=\"c2c8217b-aa19-4992-ac76-e0bc5a17fdf6\" data-root-id=\"p1669\" style=\"display: contents;\"></div>\n"
            ]
          },
          "metadata": {}
        },
        {
          "output_type": "display_data",
          "data": {
            "application/javascript": [
              "(function(root) {\n",
              "  function embed_document(root) {\n",
              "  const docs_json = {\"ae91e9f7-2f9f-46e8-9f46-a5699820bf5f\":{\"version\":\"3.6.2\",\"title\":\"Bokeh Application\",\"roots\":[{\"type\":\"object\",\"name\":\"Figure\",\"id\":\"p1669\",\"attributes\":{\"x_range\":{\"type\":\"object\",\"name\":\"DataRange1d\",\"id\":\"p1670\"},\"y_range\":{\"type\":\"object\",\"name\":\"DataRange1d\",\"id\":\"p1671\"},\"x_scale\":{\"type\":\"object\",\"name\":\"LinearScale\",\"id\":\"p1679\"},\"y_scale\":{\"type\":\"object\",\"name\":\"LinearScale\",\"id\":\"p1680\"},\"title\":{\"type\":\"object\",\"name\":\"Title\",\"id\":\"p1672\",\"attributes\":{\"text\":\"test graph\"}},\"renderers\":[{\"type\":\"object\",\"name\":\"GlyphRenderer\",\"id\":\"p1710\",\"attributes\":{\"data_source\":{\"type\":\"object\",\"name\":\"ColumnDataSource\",\"id\":\"p1666\",\"attributes\":{\"selected\":{\"type\":\"object\",\"name\":\"Selection\",\"id\":\"p1667\",\"attributes\":{\"indices\":[],\"line_indices\":[]}},\"selection_policy\":{\"type\":\"object\",\"name\":\"UnionRenderers\",\"id\":\"p1668\"},\"data\":{\"type\":\"map\",\"entries\":[[\"x\",{\"type\":\"ndarray\",\"array\":{\"type\":\"bytes\",\"data\":\"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\"},\"shape\":[772,1],\"dtype\":\"float64\",\"order\":\"little\"}],[\"y\",{\"type\":\"ndarray\",\"array\":{\"type\":\"bytes\",\"data\":\"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\"},\"shape\":[772],\"dtype\":\"int32\",\"order\":\"little\"}],[\"y_t\",{\"type\":\"ndarray\",\"array\":{\"type\":\"bytes\",\"data\":\"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\"},\"shape\":[772],\"dtype\":\"float64\",\"order\":\"little\"}]]}}},\"view\":{\"type\":\"object\",\"name\":\"CDSView\",\"id\":\"p1711\",\"attributes\":{\"filter\":{\"type\":\"object\",\"name\":\"AllIndices\",\"id\":\"p1712\"}}},\"glyph\":{\"type\":\"object\",\"name\":\"Scatter\",\"id\":\"p1707\",\"attributes\":{\"x\":{\"type\":\"field\",\"field\":\"x\"},\"y\":{\"type\":\"field\",\"field\":\"y\"},\"line_color\":{\"type\":\"value\",\"value\":\"#1f77b4\"},\"fill_color\":{\"type\":\"value\",\"value\":\"#1f77b4\"}}},\"nonselection_glyph\":{\"type\":\"object\",\"name\":\"Scatter\",\"id\":\"p1708\",\"attributes\":{\"x\":{\"type\":\"field\",\"field\":\"x\"},\"y\":{\"type\":\"field\",\"field\":\"y\"},\"line_color\":{\"type\":\"value\",\"value\":\"#1f77b4\"},\"line_alpha\":{\"type\":\"value\",\"value\":0.1},\"fill_color\":{\"type\":\"value\",\"value\":\"#1f77b4\"},\"fill_alpha\":{\"type\":\"value\",\"value\":0.1},\"hatch_alpha\":{\"type\":\"value\",\"value\":0.1}}},\"muted_glyph\":{\"type\":\"object\",\"name\":\"Scatter\",\"id\":\"p1709\",\"attributes\":{\"x\":{\"type\":\"field\",\"field\":\"x\"},\"y\":{\"type\":\"field\",\"field\":\"y\"},\"line_color\":{\"type\":\"value\",\"value\":\"#1f77b4\"},\"line_alpha\":{\"type\":\"value\",\"value\":0.2},\"fill_color\":{\"type\":\"value\",\"value\":\"#1f77b4\"},\"fill_alpha\":{\"type\":\"value\",\"value\":0.2},\"hatch_alpha\":{\"type\":\"value\",\"value\":0.2}}}}},{\"type\":\"object\",\"name\":\"GlyphRenderer\",\"id\":\"p1719\",\"attributes\":{\"data_source\":{\"id\":\"p1666\"},\"view\":{\"type\":\"object\",\"name\":\"CDSView\",\"id\":\"p1720\",\"attributes\":{\"filter\":{\"type\":\"object\",\"name\":\"AllIndices\",\"id\":\"p1721\"}}},\"glyph\":{\"type\":\"object\",\"name\":\"Scatter\",\"id\":\"p1716\",\"attributes\":{\"x\":{\"type\":\"field\",\"field\":\"x\"},\"y\":{\"type\":\"field\",\"field\":\"y_t\"},\"line_color\":{\"type\":\"value\",\"value\":\"red\"},\"fill_color\":{\"type\":\"value\",\"value\":\"red\"},\"hatch_color\":{\"type\":\"value\",\"value\":\"red\"}}},\"nonselection_glyph\":{\"type\":\"object\",\"name\":\"Scatter\",\"id\":\"p1717\",\"attributes\":{\"x\":{\"type\":\"field\",\"field\":\"x\"},\"y\":{\"type\":\"field\",\"field\":\"y_t\"},\"line_color\":{\"type\":\"value\",\"value\":\"red\"},\"line_alpha\":{\"type\":\"value\",\"value\":0.1},\"fill_color\":{\"type\":\"value\",\"value\":\"red\"},\"fill_alpha\":{\"type\":\"value\",\"value\":0.1},\"hatch_color\":{\"type\":\"value\",\"value\":\"red\"},\"hatch_alpha\":{\"type\":\"value\",\"value\":0.1}}},\"muted_glyph\":{\"type\":\"object\",\"name\":\"Scatter\",\"id\":\"p1718\",\"attributes\":{\"x\":{\"type\":\"field\",\"field\":\"x\"},\"y\":{\"type\":\"field\",\"field\":\"y_t\"},\"line_color\":{\"type\":\"value\",\"value\":\"red\"},\"line_alpha\":{\"type\":\"value\",\"value\":0.2},\"fill_color\":{\"type\":\"value\",\"value\":\"red\"},\"fill_alpha\":{\"type\":\"value\",\"value\":0.2},\"hatch_color\":{\"type\":\"value\",\"value\":\"red\"},\"hatch_alpha\":{\"type\":\"value\",\"value\":0.2}}}}}],\"toolbar\":{\"type\":\"object\",\"name\":\"Toolbar\",\"id\":\"p1678\",\"attributes\":{\"tools\":[{\"type\":\"object\",\"name\":\"PanTool\",\"id\":\"p1691\"},{\"type\":\"object\",\"name\":\"WheelZoomTool\",\"id\":\"p1692\",\"attributes\":{\"renderers\":\"auto\"}},{\"type\":\"object\",\"name\":\"BoxZoomTool\",\"id\":\"p1693\",\"attributes\":{\"overlay\":{\"type\":\"object\",\"name\":\"BoxAnnotation\",\"id\":\"p1694\",\"attributes\":{\"syncable\":false,\"line_color\":\"black\",\"line_alpha\":1.0,\"line_width\":2,\"line_dash\":[4,4],\"fill_color\":\"lightgrey\",\"fill_alpha\":0.5,\"level\":\"overlay\",\"visible\":false,\"left\":{\"type\":\"number\",\"value\":\"nan\"},\"right\":{\"type\":\"number\",\"value\":\"nan\"},\"top\":{\"type\":\"number\",\"value\":\"nan\"},\"bottom\":{\"type\":\"number\",\"value\":\"nan\"},\"left_units\":\"canvas\",\"right_units\":\"canvas\",\"top_units\":\"canvas\",\"bottom_units\":\"canvas\",\"handles\":{\"type\":\"object\",\"name\":\"BoxInteractionHandles\",\"id\":\"p1700\",\"attributes\":{\"all\":{\"type\":\"object\",\"name\":\"AreaVisuals\",\"id\":\"p1699\",\"attributes\":{\"fill_color\":\"white\",\"hover_fill_color\":\"lightgray\"}}}}}}}},{\"type\":\"object\",\"name\":\"SaveTool\",\"id\":\"p1701\"},{\"type\":\"object\",\"name\":\"ResetTool\",\"id\":\"p1702\"},{\"type\":\"object\",\"name\":\"HelpTool\",\"id\":\"p1703\"}]}},\"left\":[{\"type\":\"object\",\"name\":\"LinearAxis\",\"id\":\"p1686\",\"attributes\":{\"ticker\":{\"type\":\"object\",\"name\":\"BasicTicker\",\"id\":\"p1687\",\"attributes\":{\"mantissas\":[1,2,5]}},\"formatter\":{\"type\":\"object\",\"name\":\"BasicTickFormatter\",\"id\":\"p1688\"},\"major_label_policy\":{\"type\":\"object\",\"name\":\"AllLabels\",\"id\":\"p1689\"}}}],\"below\":[{\"type\":\"object\",\"name\":\"LinearAxis\",\"id\":\"p1681\",\"attributes\":{\"ticker\":{\"type\":\"object\",\"name\":\"BasicTicker\",\"id\":\"p1682\",\"attributes\":{\"mantissas\":[1,2,5]}},\"formatter\":{\"type\":\"object\",\"name\":\"BasicTickFormatter\",\"id\":\"p1683\"},\"major_label_policy\":{\"type\":\"object\",\"name\":\"AllLabels\",\"id\":\"p1684\"}}}],\"center\":[{\"type\":\"object\",\"name\":\"Grid\",\"id\":\"p1685\",\"attributes\":{\"axis\":{\"id\":\"p1681\"}}},{\"type\":\"object\",\"name\":\"Grid\",\"id\":\"p1690\",\"attributes\":{\"dimension\":1,\"axis\":{\"id\":\"p1686\"}}}]}}]}};\n",
              "  const render_items = [{\"docid\":\"ae91e9f7-2f9f-46e8-9f46-a5699820bf5f\",\"roots\":{\"p1669\":\"c2c8217b-aa19-4992-ac76-e0bc5a17fdf6\"},\"root_ids\":[\"p1669\"]}];\n",
              "  void root.Bokeh.embed.embed_items_notebook(docs_json, render_items);\n",
              "  }\n",
              "  if (root.Bokeh !== undefined) {\n",
              "    embed_document(root);\n",
              "  } else {\n",
              "    let attempts = 0;\n",
              "    const timer = setInterval(function(root) {\n",
              "      if (root.Bokeh !== undefined) {\n",
              "        clearInterval(timer);\n",
              "        embed_document(root);\n",
              "      } else {\n",
              "        attempts++;\n",
              "        if (attempts > 100) {\n",
              "          clearInterval(timer);\n",
              "          console.log(\"Bokeh: ERROR: Unable to run BokehJS code because BokehJS library is missing\");\n",
              "        }\n",
              "      }\n",
              "    }, 10, root)\n",
              "  }\n",
              "})(window);"
            ],
            "application/vnd.bokehjs_exec.v0+json": ""
          },
          "metadata": {
            "application/vnd.bokehjs_exec.v0+json": {
              "id": "p1669"
            }
          }
        }
      ]
    },
    {
      "cell_type": "code",
      "source": [],
      "metadata": {
        "id": "sEaLimCuzv63"
      },
      "execution_count": null,
      "outputs": []
    },
    {
      "cell_type": "code",
      "source": [
        "\n",
        "\n",
        "X_train_ln_full = np.hstack([X_train_pca_cuadratic, X_train_nom])\n",
        "X_test_ln_full = np.hstack([X_test_pca_cuadratic, X_test_nom])\n",
        "\n",
        "X_train_ln_full.shape"
      ],
      "metadata": {
        "colab": {
          "base_uri": "https://localhost:8080/"
        },
        "id": "4ViN_IuMtzZl",
        "outputId": "54585f21-e2f4-4791-ccb4-5365e4a4a108"
      },
      "execution_count": 57,
      "outputs": [
        {
          "output_type": "execute_result",
          "data": {
            "text/plain": [
              "(772, 170)"
            ]
          },
          "metadata": {},
          "execution_count": 57
        }
      ]
    },
    {
      "cell_type": "code",
      "source": [
        "ln_model= linear_model.RidgeCV()\n",
        "ln_model.fit(X_train_ln_full,y_train)\n",
        "print(ln_model.score(X_train_ln_full,y_train))\n",
        "print(ln_model.score(X_test_ln_full,y_test))"
      ],
      "metadata": {
        "colab": {
          "base_uri": "https://localhost:8080/"
        },
        "id": "vEiFu4AytuXq",
        "outputId": "f55f44f6-9f73-4645-8784-551fdd41a88a"
      },
      "execution_count": 58,
      "outputs": [
        {
          "output_type": "stream",
          "name": "stdout",
          "text": [
            "0.93215885303758\n",
            "0.8068956501918065\n"
          ]
        }
      ]
    },
    {
      "cell_type": "markdown",
      "source": [
        "It is clear that the compressive strength is a value given by multiple variables, one of them are base of the mix and others are added to the mix , which allowed to improved properties of the solution so it improves the development time of the strength and its strength too.\n",
        "\n",
        " so, it is a multivariable model."
      ],
      "metadata": {
        "id": "XULkMmt1jgL2"
      }
    }
  ]
}